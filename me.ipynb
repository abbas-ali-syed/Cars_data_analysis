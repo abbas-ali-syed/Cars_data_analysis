{
 "cells": [
  {
   "cell_type": "code",
   "execution_count": 1830,
   "id": "5f378e15",
   "metadata": {},
   "outputs": [],
   "source": [
    "import pandas as pd\n",
    "import numpy as np\n",
    "from sklearn.preprocessing import OneHotEncoder,LabelEncoder\n",
    "import matplotlib.pyplot as plt\n",
    "import seaborn as sns"
   ]
  },
  {
   "cell_type": "code",
   "execution_count": 1831,
   "id": "f44bd074",
   "metadata": {},
   "outputs": [
    {
     "data": {
      "text/html": [
       "<div>\n",
       "<style scoped>\n",
       "    .dataframe tbody tr th:only-of-type {\n",
       "        vertical-align: middle;\n",
       "    }\n",
       "\n",
       "    .dataframe tbody tr th {\n",
       "        vertical-align: top;\n",
       "    }\n",
       "\n",
       "    .dataframe thead th {\n",
       "        text-align: right;\n",
       "    }\n",
       "</style>\n",
       "<table border=\"1\" class=\"dataframe\">\n",
       "  <thead>\n",
       "    <tr style=\"text-align: right;\">\n",
       "      <th></th>\n",
       "      <th>Unnamed: 0</th>\n",
       "      <th>Make</th>\n",
       "      <th>Model</th>\n",
       "      <th>Variant</th>\n",
       "      <th>Ex-Showroom_Price</th>\n",
       "      <th>Displacement</th>\n",
       "      <th>Cylinders</th>\n",
       "      <th>Valves_Per_Cylinder</th>\n",
       "      <th>Drivetrain</th>\n",
       "      <th>Cylinder_Configuration</th>\n",
       "      <th>...</th>\n",
       "      <th>Leather_Wrapped_Steering</th>\n",
       "      <th>Automatic_Headlamps</th>\n",
       "      <th>Engine_Type</th>\n",
       "      <th>ASR_/_Traction_Control</th>\n",
       "      <th>Cruise_Control</th>\n",
       "      <th>USB_Ports</th>\n",
       "      <th>Heads-Up_Display</th>\n",
       "      <th>Welcome_Lights</th>\n",
       "      <th>Battery</th>\n",
       "      <th>Electric_Range</th>\n",
       "    </tr>\n",
       "  </thead>\n",
       "  <tbody>\n",
       "    <tr>\n",
       "      <th>0</th>\n",
       "      <td>0</td>\n",
       "      <td>Tata</td>\n",
       "      <td>Nano Genx</td>\n",
       "      <td>Xt</td>\n",
       "      <td>Rs. 2,92,667</td>\n",
       "      <td>624 cc</td>\n",
       "      <td>2.0</td>\n",
       "      <td>2.0</td>\n",
       "      <td>RWD (Rear Wheel Drive)</td>\n",
       "      <td>In-line</td>\n",
       "      <td>...</td>\n",
       "      <td>NaN</td>\n",
       "      <td>NaN</td>\n",
       "      <td>NaN</td>\n",
       "      <td>NaN</td>\n",
       "      <td>NaN</td>\n",
       "      <td>NaN</td>\n",
       "      <td>NaN</td>\n",
       "      <td>NaN</td>\n",
       "      <td>NaN</td>\n",
       "      <td>NaN</td>\n",
       "    </tr>\n",
       "    <tr>\n",
       "      <th>1</th>\n",
       "      <td>1</td>\n",
       "      <td>Tata</td>\n",
       "      <td>Nano Genx</td>\n",
       "      <td>Xe</td>\n",
       "      <td>Rs. 2,36,447</td>\n",
       "      <td>624 cc</td>\n",
       "      <td>2.0</td>\n",
       "      <td>2.0</td>\n",
       "      <td>RWD (Rear Wheel Drive)</td>\n",
       "      <td>In-line</td>\n",
       "      <td>...</td>\n",
       "      <td>NaN</td>\n",
       "      <td>NaN</td>\n",
       "      <td>NaN</td>\n",
       "      <td>NaN</td>\n",
       "      <td>NaN</td>\n",
       "      <td>NaN</td>\n",
       "      <td>NaN</td>\n",
       "      <td>NaN</td>\n",
       "      <td>NaN</td>\n",
       "      <td>NaN</td>\n",
       "    </tr>\n",
       "    <tr>\n",
       "      <th>2</th>\n",
       "      <td>2</td>\n",
       "      <td>Tata</td>\n",
       "      <td>Nano Genx</td>\n",
       "      <td>Emax Xm</td>\n",
       "      <td>Rs. 2,96,661</td>\n",
       "      <td>624 cc</td>\n",
       "      <td>2.0</td>\n",
       "      <td>2.0</td>\n",
       "      <td>RWD (Rear Wheel Drive)</td>\n",
       "      <td>In-line</td>\n",
       "      <td>...</td>\n",
       "      <td>NaN</td>\n",
       "      <td>NaN</td>\n",
       "      <td>NaN</td>\n",
       "      <td>NaN</td>\n",
       "      <td>NaN</td>\n",
       "      <td>NaN</td>\n",
       "      <td>NaN</td>\n",
       "      <td>NaN</td>\n",
       "      <td>NaN</td>\n",
       "      <td>NaN</td>\n",
       "    </tr>\n",
       "    <tr>\n",
       "      <th>3</th>\n",
       "      <td>3</td>\n",
       "      <td>Tata</td>\n",
       "      <td>Nano Genx</td>\n",
       "      <td>Xta</td>\n",
       "      <td>Rs. 3,34,768</td>\n",
       "      <td>624 cc</td>\n",
       "      <td>2.0</td>\n",
       "      <td>2.0</td>\n",
       "      <td>RWD (Rear Wheel Drive)</td>\n",
       "      <td>In-line</td>\n",
       "      <td>...</td>\n",
       "      <td>NaN</td>\n",
       "      <td>NaN</td>\n",
       "      <td>NaN</td>\n",
       "      <td>NaN</td>\n",
       "      <td>NaN</td>\n",
       "      <td>NaN</td>\n",
       "      <td>NaN</td>\n",
       "      <td>NaN</td>\n",
       "      <td>NaN</td>\n",
       "      <td>NaN</td>\n",
       "    </tr>\n",
       "    <tr>\n",
       "      <th>4</th>\n",
       "      <td>4</td>\n",
       "      <td>Tata</td>\n",
       "      <td>Nano Genx</td>\n",
       "      <td>Xm</td>\n",
       "      <td>Rs. 2,72,223</td>\n",
       "      <td>624 cc</td>\n",
       "      <td>2.0</td>\n",
       "      <td>2.0</td>\n",
       "      <td>RWD (Rear Wheel Drive)</td>\n",
       "      <td>In-line</td>\n",
       "      <td>...</td>\n",
       "      <td>NaN</td>\n",
       "      <td>NaN</td>\n",
       "      <td>NaN</td>\n",
       "      <td>NaN</td>\n",
       "      <td>NaN</td>\n",
       "      <td>NaN</td>\n",
       "      <td>NaN</td>\n",
       "      <td>NaN</td>\n",
       "      <td>NaN</td>\n",
       "      <td>NaN</td>\n",
       "    </tr>\n",
       "    <tr>\n",
       "      <th>...</th>\n",
       "      <td>...</td>\n",
       "      <td>...</td>\n",
       "      <td>...</td>\n",
       "      <td>...</td>\n",
       "      <td>...</td>\n",
       "      <td>...</td>\n",
       "      <td>...</td>\n",
       "      <td>...</td>\n",
       "      <td>...</td>\n",
       "      <td>...</td>\n",
       "      <td>...</td>\n",
       "      <td>...</td>\n",
       "      <td>...</td>\n",
       "      <td>...</td>\n",
       "      <td>...</td>\n",
       "      <td>...</td>\n",
       "      <td>...</td>\n",
       "      <td>...</td>\n",
       "      <td>...</td>\n",
       "      <td>...</td>\n",
       "      <td>...</td>\n",
       "    </tr>\n",
       "    <tr>\n",
       "      <th>1271</th>\n",
       "      <td>1271</td>\n",
       "      <td>Honda</td>\n",
       "      <td>City</td>\n",
       "      <td>Vx Mt Diesel</td>\n",
       "      <td>Rs. 13,02,000</td>\n",
       "      <td>1498 cc</td>\n",
       "      <td>4.0</td>\n",
       "      <td>4.0</td>\n",
       "      <td>FWD (Front Wheel Drive)</td>\n",
       "      <td>In-line</td>\n",
       "      <td>...</td>\n",
       "      <td>Yes</td>\n",
       "      <td>NaN</td>\n",
       "      <td>NaN</td>\n",
       "      <td>NaN</td>\n",
       "      <td>Yes</td>\n",
       "      <td>NaN</td>\n",
       "      <td>NaN</td>\n",
       "      <td>NaN</td>\n",
       "      <td>NaN</td>\n",
       "      <td>NaN</td>\n",
       "    </tr>\n",
       "    <tr>\n",
       "      <th>1272</th>\n",
       "      <td>1272</td>\n",
       "      <td>Honda</td>\n",
       "      <td>City</td>\n",
       "      <td>Zx Mt Diesel</td>\n",
       "      <td>Rs. 14,21,000</td>\n",
       "      <td>1498 cc</td>\n",
       "      <td>4.0</td>\n",
       "      <td>4.0</td>\n",
       "      <td>FWD (Front Wheel Drive)</td>\n",
       "      <td>In-line</td>\n",
       "      <td>...</td>\n",
       "      <td>Yes</td>\n",
       "      <td>Yes</td>\n",
       "      <td>NaN</td>\n",
       "      <td>NaN</td>\n",
       "      <td>Yes</td>\n",
       "      <td>NaN</td>\n",
       "      <td>NaN</td>\n",
       "      <td>NaN</td>\n",
       "      <td>NaN</td>\n",
       "      <td>NaN</td>\n",
       "    </tr>\n",
       "    <tr>\n",
       "      <th>1273</th>\n",
       "      <td>1273</td>\n",
       "      <td>Honda</td>\n",
       "      <td>City</td>\n",
       "      <td>Zx Cvt Petrol</td>\n",
       "      <td>Rs. 14,31,000</td>\n",
       "      <td>1497 cc</td>\n",
       "      <td>4.0</td>\n",
       "      <td>4.0</td>\n",
       "      <td>FWD (Front Wheel Drive)</td>\n",
       "      <td>In-line</td>\n",
       "      <td>...</td>\n",
       "      <td>Yes</td>\n",
       "      <td>Yes</td>\n",
       "      <td>NaN</td>\n",
       "      <td>NaN</td>\n",
       "      <td>Yes</td>\n",
       "      <td>NaN</td>\n",
       "      <td>NaN</td>\n",
       "      <td>NaN</td>\n",
       "      <td>NaN</td>\n",
       "      <td>NaN</td>\n",
       "    </tr>\n",
       "    <tr>\n",
       "      <th>1274</th>\n",
       "      <td>1274</td>\n",
       "      <td>Honda</td>\n",
       "      <td>City</td>\n",
       "      <td>V Cvt Petrol</td>\n",
       "      <td>Rs. 12,01,000</td>\n",
       "      <td>1497 cc</td>\n",
       "      <td>4.0</td>\n",
       "      <td>4.0</td>\n",
       "      <td>FWD (Front Wheel Drive)</td>\n",
       "      <td>In-line</td>\n",
       "      <td>...</td>\n",
       "      <td>NaN</td>\n",
       "      <td>NaN</td>\n",
       "      <td>NaN</td>\n",
       "      <td>NaN</td>\n",
       "      <td>Yes</td>\n",
       "      <td>NaN</td>\n",
       "      <td>NaN</td>\n",
       "      <td>NaN</td>\n",
       "      <td>NaN</td>\n",
       "      <td>NaN</td>\n",
       "    </tr>\n",
       "    <tr>\n",
       "      <th>1275</th>\n",
       "      <td>1275</td>\n",
       "      <td>Mitsubishi</td>\n",
       "      <td>Montero</td>\n",
       "      <td>3.2 At</td>\n",
       "      <td>Rs. 68,62,560</td>\n",
       "      <td>3200 cc</td>\n",
       "      <td>4.0</td>\n",
       "      <td>4.0</td>\n",
       "      <td>AWD (All Wheel Drive)</td>\n",
       "      <td>In-line</td>\n",
       "      <td>...</td>\n",
       "      <td>Yes</td>\n",
       "      <td>NaN</td>\n",
       "      <td>NaN</td>\n",
       "      <td>Yes</td>\n",
       "      <td>Yes</td>\n",
       "      <td>NaN</td>\n",
       "      <td>NaN</td>\n",
       "      <td>NaN</td>\n",
       "      <td>NaN</td>\n",
       "      <td>NaN</td>\n",
       "    </tr>\n",
       "  </tbody>\n",
       "</table>\n",
       "<p>1276 rows × 141 columns</p>\n",
       "</div>"
      ],
      "text/plain": [
       "      Unnamed: 0        Make      Model        Variant Ex-Showroom_Price  \\\n",
       "0              0        Tata  Nano Genx             Xt      Rs. 2,92,667   \n",
       "1              1        Tata  Nano Genx             Xe      Rs. 2,36,447   \n",
       "2              2        Tata  Nano Genx        Emax Xm      Rs. 2,96,661   \n",
       "3              3        Tata  Nano Genx            Xta      Rs. 3,34,768   \n",
       "4              4        Tata  Nano Genx             Xm      Rs. 2,72,223   \n",
       "...          ...         ...        ...            ...               ...   \n",
       "1271        1271       Honda       City   Vx Mt Diesel     Rs. 13,02,000   \n",
       "1272        1272       Honda       City   Zx Mt Diesel     Rs. 14,21,000   \n",
       "1273        1273       Honda       City  Zx Cvt Petrol     Rs. 14,31,000   \n",
       "1274        1274       Honda       City   V Cvt Petrol     Rs. 12,01,000   \n",
       "1275        1275  Mitsubishi    Montero         3.2 At     Rs. 68,62,560   \n",
       "\n",
       "     Displacement  Cylinders  Valves_Per_Cylinder               Drivetrain  \\\n",
       "0          624 cc        2.0                  2.0   RWD (Rear Wheel Drive)   \n",
       "1          624 cc        2.0                  2.0   RWD (Rear Wheel Drive)   \n",
       "2          624 cc        2.0                  2.0   RWD (Rear Wheel Drive)   \n",
       "3          624 cc        2.0                  2.0   RWD (Rear Wheel Drive)   \n",
       "4          624 cc        2.0                  2.0   RWD (Rear Wheel Drive)   \n",
       "...           ...        ...                  ...                      ...   \n",
       "1271      1498 cc        4.0                  4.0  FWD (Front Wheel Drive)   \n",
       "1272      1498 cc        4.0                  4.0  FWD (Front Wheel Drive)   \n",
       "1273      1497 cc        4.0                  4.0  FWD (Front Wheel Drive)   \n",
       "1274      1497 cc        4.0                  4.0  FWD (Front Wheel Drive)   \n",
       "1275      3200 cc        4.0                  4.0    AWD (All Wheel Drive)   \n",
       "\n",
       "     Cylinder_Configuration  ... Leather_Wrapped_Steering Automatic_Headlamps  \\\n",
       "0                   In-line  ...                      NaN                 NaN   \n",
       "1                   In-line  ...                      NaN                 NaN   \n",
       "2                   In-line  ...                      NaN                 NaN   \n",
       "3                   In-line  ...                      NaN                 NaN   \n",
       "4                   In-line  ...                      NaN                 NaN   \n",
       "...                     ...  ...                      ...                 ...   \n",
       "1271                In-line  ...                      Yes                 NaN   \n",
       "1272                In-line  ...                      Yes                 Yes   \n",
       "1273                In-line  ...                      Yes                 Yes   \n",
       "1274                In-line  ...                      NaN                 NaN   \n",
       "1275                In-line  ...                      Yes                 NaN   \n",
       "\n",
       "     Engine_Type ASR_/_Traction_Control Cruise_Control USB_Ports  \\\n",
       "0            NaN                    NaN            NaN       NaN   \n",
       "1            NaN                    NaN            NaN       NaN   \n",
       "2            NaN                    NaN            NaN       NaN   \n",
       "3            NaN                    NaN            NaN       NaN   \n",
       "4            NaN                    NaN            NaN       NaN   \n",
       "...          ...                    ...            ...       ...   \n",
       "1271         NaN                    NaN            Yes       NaN   \n",
       "1272         NaN                    NaN            Yes       NaN   \n",
       "1273         NaN                    NaN            Yes       NaN   \n",
       "1274         NaN                    NaN            Yes       NaN   \n",
       "1275         NaN                    Yes            Yes       NaN   \n",
       "\n",
       "     Heads-Up_Display Welcome_Lights Battery  Electric_Range  \n",
       "0                 NaN            NaN     NaN             NaN  \n",
       "1                 NaN            NaN     NaN             NaN  \n",
       "2                 NaN            NaN     NaN             NaN  \n",
       "3                 NaN            NaN     NaN             NaN  \n",
       "4                 NaN            NaN     NaN             NaN  \n",
       "...               ...            ...     ...             ...  \n",
       "1271              NaN            NaN     NaN             NaN  \n",
       "1272              NaN            NaN     NaN             NaN  \n",
       "1273              NaN            NaN     NaN             NaN  \n",
       "1274              NaN            NaN     NaN             NaN  \n",
       "1275              NaN            NaN     NaN             NaN  \n",
       "\n",
       "[1276 rows x 141 columns]"
      ]
     },
     "execution_count": 1831,
     "metadata": {},
     "output_type": "execute_result"
    }
   ],
   "source": [
    "df = pd.read_csv(\"cars_engage_2022.csv\") #Data Loading\n",
    "df\n"
   ]
  },
  {
   "cell_type": "code",
   "execution_count": 1832,
   "id": "76941151",
   "metadata": {},
   "outputs": [
    {
     "data": {
      "text/plain": [
       "Index(['Unnamed: 0', 'Make', 'Model', 'Variant', 'Ex-Showroom_Price',\n",
       "       'Displacement', 'Cylinders', 'Valves_Per_Cylinder', 'Drivetrain',\n",
       "       'Cylinder_Configuration',\n",
       "       ...\n",
       "       'Leather_Wrapped_Steering', 'Automatic_Headlamps', 'Engine_Type',\n",
       "       'ASR_/_Traction_Control', 'Cruise_Control', 'USB_Ports',\n",
       "       'Heads-Up_Display', 'Welcome_Lights', 'Battery', 'Electric_Range'],\n",
       "      dtype='object', length=141)"
      ]
     },
     "execution_count": 1832,
     "metadata": {},
     "output_type": "execute_result"
    }
   ],
   "source": [
    "df.columns"
   ]
  },
  {
   "cell_type": "markdown",
   "id": "69016f9e",
   "metadata": {},
   "source": [
    "#### Checking for missing or null values\n"
   ]
  },
  {
   "cell_type": "code",
   "execution_count": 1833,
   "id": "cf925981",
   "metadata": {},
   "outputs": [
    {
     "data": {
      "text/plain": [
       "Unnamed: 0              0\n",
       "Make                   75\n",
       "Model                   0\n",
       "Variant                 0\n",
       "Ex-Showroom_Price       0\n",
       "                     ... \n",
       "USB_Ports            1247\n",
       "Heads-Up_Display     1225\n",
       "Welcome_Lights       1207\n",
       "Battery              1263\n",
       "Electric_Range       1259\n",
       "Length: 141, dtype: int64"
      ]
     },
     "execution_count": 1833,
     "metadata": {},
     "output_type": "execute_result"
    }
   ],
   "source": [
    "df.isnull().sum()"
   ]
  },
  {
   "cell_type": "code",
   "execution_count": 1834,
   "id": "c231aa54",
   "metadata": {},
   "outputs": [
    {
     "data": {
      "text/plain": [
       "0        110 litres\n",
       "1        110 litres\n",
       "2        110 litres\n",
       "3         94 litres\n",
       "4        110 litres\n",
       "           ...     \n",
       "1271     510 litres\n",
       "1272     510 litres\n",
       "1273     510 litres\n",
       "1274     510 litres\n",
       "1275    1050 litres\n",
       "Name: Boot_Space, Length: 1276, dtype: object"
      ]
     },
     "execution_count": 1834,
     "metadata": {},
     "output_type": "execute_result"
    }
   ],
   "source": [
    "df.Boot_Space"
   ]
  },
  {
   "cell_type": "markdown",
   "id": "da8eb4b9",
   "metadata": {},
   "source": [
    "#### Removing unit so we can convert to numeric type from object dtype"
   ]
  },
  {
   "cell_type": "code",
   "execution_count": 1835,
   "id": "69d6681c",
   "metadata": {},
   "outputs": [],
   "source": [
    "df.Boot_Space=df.Boot_Space.str.replace('litres',' ')\n"
   ]
  },
  {
   "cell_type": "code",
   "execution_count": 1836,
   "id": "1e8918b1",
   "metadata": {},
   "outputs": [
    {
     "data": {
      "text/plain": [
       "0        110  \n",
       "1        110  \n",
       "2        110  \n",
       "3         94  \n",
       "4        110  \n",
       "         ...  \n",
       "1271     510  \n",
       "1272     510  \n",
       "1273     510  \n",
       "1274     510  \n",
       "1275    1050  \n",
       "Name: Boot_Space, Length: 1276, dtype: object"
      ]
     },
     "execution_count": 1836,
     "metadata": {},
     "output_type": "execute_result"
    }
   ],
   "source": [
    "df.Boot_Space\n"
   ]
  },
  {
   "cell_type": "code",
   "execution_count": 1837,
   "id": "d135f205",
   "metadata": {},
   "outputs": [],
   "source": [
    "df.Boot_Space=pd.to_numeric(df.Boot_Space,errors='coerce')"
   ]
  },
  {
   "cell_type": "code",
   "execution_count": 1838,
   "id": "2fe9a99c",
   "metadata": {},
   "outputs": [
    {
     "data": {
      "text/plain": [
       "0        110.0\n",
       "1        110.0\n",
       "2        110.0\n",
       "3         94.0\n",
       "4        110.0\n",
       "         ...  \n",
       "1271     510.0\n",
       "1272     510.0\n",
       "1273     510.0\n",
       "1274     510.0\n",
       "1275    1050.0\n",
       "Name: Boot_Space, Length: 1276, dtype: float64"
      ]
     },
     "execution_count": 1838,
     "metadata": {},
     "output_type": "execute_result"
    }
   ],
   "source": [
    "df.Boot_Space"
   ]
  },
  {
   "cell_type": "code",
   "execution_count": 1839,
   "id": "e4a0592f",
   "metadata": {},
   "outputs": [
    {
     "data": {
      "text/plain": [
       "0             Tata\n",
       "1             Tata\n",
       "2             Tata\n",
       "3             Tata\n",
       "4             Tata\n",
       "           ...    \n",
       "1271         Honda\n",
       "1272         Honda\n",
       "1273         Honda\n",
       "1274         Honda\n",
       "1275    Mitsubishi\n",
       "Name: Make, Length: 1276, dtype: object"
      ]
     },
     "execution_count": 1839,
     "metadata": {},
     "output_type": "execute_result"
    }
   ],
   "source": [
    "df.Make"
   ]
  },
  {
   "cell_type": "code",
   "execution_count": 1840,
   "id": "e8914e9b",
   "metadata": {},
   "outputs": [
    {
     "data": {
      "text/plain": [
       "Maruti Suzuki       149\n",
       "Hyundai             130\n",
       "Mahindra            119\n",
       "Tata                100\n",
       "Toyota               82\n",
       "Honda                64\n",
       "Skoda                43\n",
       "Ford                 43\n",
       "Bmw                  37\n",
       "Renault              36\n",
       "Volkswagen           34\n",
       "Audi                 31\n",
       "Nissan               29\n",
       "Jeep                 28\n",
       "Land Rover Rover     27\n",
       "Fiat                 23\n",
       "Jaguar               22\n",
       "Kia                  21\n",
       "Volvo                18\n",
       "Datsun               15\n",
       "Porsche              14\n",
       "Maruti Suzuki R      14\n",
       "Lamborghini          13\n",
       "Mg                   13\n",
       "Icml                 11\n",
       "Land Rover           10\n",
       "Lexus                10\n",
       "Mini                 10\n",
       "Maserati              9\n",
       "Ferrari               8\n",
       "Mitsubishi            7\n",
       "Bentley               6\n",
       "Premier               6\n",
       "Force                 6\n",
       "Isuzu                 5\n",
       "Aston Martin          3\n",
       "Bajaj                 2\n",
       "Bugatti               2\n",
       "Dc                    1\n",
       "Name: Make, dtype: int64"
      ]
     },
     "execution_count": 1840,
     "metadata": {},
     "output_type": "execute_result"
    }
   ],
   "source": [
    "df.Make.value_counts()"
   ]
  },
  {
   "cell_type": "code",
   "execution_count": 1841,
   "id": "8f353220",
   "metadata": {},
   "outputs": [],
   "source": [
    "df.Make.fillna('Mercedes',inplace=True)"
   ]
  },
  {
   "cell_type": "code",
   "execution_count": 1842,
   "id": "8d73de55",
   "metadata": {},
   "outputs": [
    {
     "data": {
      "text/plain": [
       "Unnamed: 0              0\n",
       "Make                    0\n",
       "Model                   0\n",
       "Variant                 0\n",
       "Ex-Showroom_Price       0\n",
       "                     ... \n",
       "USB_Ports            1247\n",
       "Heads-Up_Display     1225\n",
       "Welcome_Lights       1207\n",
       "Battery              1263\n",
       "Electric_Range       1259\n",
       "Length: 141, dtype: int64"
      ]
     },
     "execution_count": 1842,
     "metadata": {},
     "output_type": "execute_result"
    }
   ],
   "source": [
    "df.isnull().sum()"
   ]
  },
  {
   "cell_type": "code",
   "execution_count": 1843,
   "id": "09ac6a95",
   "metadata": {},
   "outputs": [
    {
     "name": "stderr",
     "output_type": "stream",
     "text": [
      "C:\\Users\\abbas\\AppData\\Local\\Temp/ipykernel_94564/1196248880.py:2: SettingWithCopyWarning: \n",
      "A value is trying to be set on a copy of a slice from a DataFrame\n",
      "\n",
      "See the caveats in the documentation: https://pandas.pydata.org/pandas-docs/stable/user_guide/indexing.html#returning-a-view-versus-a-copy\n",
      "  df2['Make'][i]='Datsun'\n"
     ]
    }
   ],
   "source": [
    "for i in range(883,892):\n",
    "    df2['Make'][i]='Datsun'"
   ]
  },
  {
   "cell_type": "code",
   "execution_count": 1844,
   "id": "93fd37cf",
   "metadata": {},
   "outputs": [
    {
     "name": "stderr",
     "output_type": "stream",
     "text": [
      "C:\\Users\\abbas\\AppData\\Local\\Temp/ipykernel_94564/3064651353.py:2: SettingWithCopyWarning: \n",
      "A value is trying to be set on a copy of a slice from a DataFrame\n",
      "\n",
      "See the caveats in the documentation: https://pandas.pydata.org/pandas-docs/stable/user_guide/indexing.html#returning-a-view-versus-a-copy\n",
      "  df2['Make'][i]='Rolls-Royce'\n"
     ]
    }
   ],
   "source": [
    "for i in range(349,355):\n",
    "    df2['Make'][i]='Rolls-Royce'"
   ]
  },
  {
   "cell_type": "code",
   "execution_count": 1845,
   "id": "833a8daf",
   "metadata": {},
   "outputs": [
    {
     "data": {
      "text/plain": [
       "0       Nano Genx\n",
       "1       Nano Genx\n",
       "2       Nano Genx\n",
       "3       Nano Genx\n",
       "4       Nano Genx\n",
       "          ...    \n",
       "1271         City\n",
       "1272         City\n",
       "1273         City\n",
       "1274         City\n",
       "1275      Montero\n",
       "Name: Model, Length: 1276, dtype: object"
      ]
     },
     "execution_count": 1845,
     "metadata": {},
     "output_type": "execute_result"
    }
   ],
   "source": [
    "\n",
    "\n",
    "df.Model\n"
   ]
  },
  {
   "cell_type": "code",
   "execution_count": 1846,
   "id": "c1df6fab",
   "metadata": {},
   "outputs": [
    {
     "data": {
      "text/plain": [
       "66"
      ]
     },
     "execution_count": 1846,
     "metadata": {},
     "output_type": "execute_result"
    }
   ],
   "source": [
    "df.Cylinders.isnull().sum()"
   ]
  },
  {
   "cell_type": "code",
   "execution_count": 1847,
   "id": "803402fd",
   "metadata": {},
   "outputs": [
    {
     "data": {
      "text/plain": [
       "0    4.0\n",
       "dtype: float64"
      ]
     },
     "execution_count": 1847,
     "metadata": {},
     "output_type": "execute_result"
    }
   ],
   "source": [
    "df.Cylinders.mode()"
   ]
  },
  {
   "cell_type": "markdown",
   "id": "0e2aca30",
   "metadata": {},
   "source": [
    "#### replacing the missing values in the column cylinder with its mode\n"
   ]
  },
  {
   "cell_type": "code",
   "execution_count": 1848,
   "id": "8fe9f76a",
   "metadata": {},
   "outputs": [],
   "source": [
    "df.Cylinders.fillna(4.0,inplace = True) "
   ]
  },
  {
   "cell_type": "code",
   "execution_count": 1849,
   "id": "f67b7314",
   "metadata": {},
   "outputs": [
    {
     "data": {
      "text/plain": [
       "0"
      ]
     },
     "execution_count": 1849,
     "metadata": {},
     "output_type": "execute_result"
    }
   ],
   "source": [
    "df.Cylinders.isnull().sum()"
   ]
  },
  {
   "cell_type": "code",
   "execution_count": 1850,
   "id": "e4a9412c",
   "metadata": {},
   "outputs": [
    {
     "data": {
      "text/plain": [
       "102"
      ]
     },
     "execution_count": 1850,
     "metadata": {},
     "output_type": "execute_result"
    }
   ],
   "source": [
    "df.Valves_Per_Cylinder.isnull().sum()"
   ]
  },
  {
   "cell_type": "code",
   "execution_count": 1851,
   "id": "6be752ea",
   "metadata": {},
   "outputs": [
    {
     "data": {
      "text/plain": [
       "4.0"
      ]
     },
     "execution_count": 1851,
     "metadata": {},
     "output_type": "execute_result"
    }
   ],
   "source": [
    "df.Valves_Per_Cylinder.median()"
   ]
  },
  {
   "cell_type": "code",
   "execution_count": 1852,
   "id": "7dd68e5a",
   "metadata": {},
   "outputs": [],
   "source": [
    "df.Valves_Per_Cylinder.fillna(4.0,inplace = True)"
   ]
  },
  {
   "cell_type": "code",
   "execution_count": 1853,
   "id": "a06517f4",
   "metadata": {},
   "outputs": [
    {
     "data": {
      "text/plain": [
       "0"
      ]
     },
     "execution_count": 1853,
     "metadata": {},
     "output_type": "execute_result"
    }
   ],
   "source": [
    "df.Valves_Per_Cylinder.isnull().sum()"
   ]
  },
  {
   "cell_type": "code",
   "execution_count": 1854,
   "id": "47731eb2",
   "metadata": {},
   "outputs": [
    {
     "data": {
      "text/plain": [
       "0        624.0\n",
       "1        624.0\n",
       "2        624.0\n",
       "3        624.0\n",
       "4        624.0\n",
       "         ...  \n",
       "1271    1498.0\n",
       "1272    1498.0\n",
       "1273    1497.0\n",
       "1274    1497.0\n",
       "1275    3200.0\n",
       "Name: Displacement, Length: 1276, dtype: float64"
      ]
     },
     "execution_count": 1854,
     "metadata": {},
     "output_type": "execute_result"
    }
   ],
   "source": [
    "df.Displacement=df.Displacement.str.replace('cc',' ')\n",
    "df.Displacement=pd.to_numeric(df.Displacement)\n",
    "df.Displacement=df.Displacement.fillna(1197)\n",
    "df.Displacement"
   ]
  },
  {
   "cell_type": "code",
   "execution_count": 1855,
   "id": "dcc3b04c",
   "metadata": {},
   "outputs": [
    {
     "data": {
      "text/plain": [
       "0       ?23.6 km/litre\n",
       "1       ?23.6 km/litre\n",
       "2                  NaN\n",
       "3       ?23.6 km/litre\n",
       "4       ?23.6 km/litre\n",
       "             ...      \n",
       "1271     22.6 km/litre\n",
       "1272     22.6 km/litre\n",
       "1273       18 km/litre\n",
       "1274     14.3 km/litre\n",
       "1275     8.25 km/litre\n",
       "Name: City_Mileage, Length: 1276, dtype: object"
      ]
     },
     "execution_count": 1855,
     "metadata": {},
     "output_type": "execute_result"
    }
   ],
   "source": [
    "df.City_Mileage"
   ]
  },
  {
   "cell_type": "code",
   "execution_count": 1856,
   "id": "9bf85275",
   "metadata": {},
   "outputs": [
    {
     "data": {
      "text/plain": [
       "555"
      ]
     },
     "execution_count": 1856,
     "metadata": {},
     "output_type": "execute_result"
    }
   ],
   "source": [
    "df.City_Mileage.isnull().sum()"
   ]
  },
  {
   "cell_type": "code",
   "execution_count": 1857,
   "id": "15285f2c",
   "metadata": {},
   "outputs": [
    {
     "name": "stderr",
     "output_type": "stream",
     "text": [
      "C:\\Users\\abbas\\AppData\\Local\\Temp/ipykernel_94564/2986785397.py:2: FutureWarning: The default value of regex will change from True to False in a future version. In addition, single character regular expressions will *not* be treated as literal strings when regex=True.\n",
      "  df.City_Mileage=df['City_Mileage'].str.replace(\"?\",\" \")\n"
     ]
    }
   ],
   "source": [
    "df.City_Mileage=df['City_Mileage'].str.replace('km/litre',\" \") \n",
    "df.City_Mileage=df['City_Mileage'].str.replace(\"?\",\" \")"
   ]
  },
  {
   "cell_type": "code",
   "execution_count": 1858,
   "id": "1c19072c",
   "metadata": {},
   "outputs": [],
   "source": [
    "df['City_Mileage']=pd.to_numeric(df['City_Mileage'],errors='coerce')"
   ]
  },
  {
   "cell_type": "code",
   "execution_count": 1859,
   "id": "3ecb7ebd",
   "metadata": {},
   "outputs": [
    {
     "data": {
      "text/plain": [
       "0     23.60\n",
       "1     23.60\n",
       "2       NaN\n",
       "3     23.60\n",
       "4     23.60\n",
       "5     23.60\n",
       "6     21.38\n",
       "7     21.38\n",
       "8     21.38\n",
       "9     21.38\n",
       "10      NaN\n",
       "11      NaN\n",
       "12    25.17\n",
       "13    25.17\n",
       "14    25.17\n",
       "15    25.17\n",
       "16    25.17\n",
       "17    25.17\n",
       "18    25.17\n",
       "19    25.17\n",
       "Name: City_Mileage, dtype: float64"
      ]
     },
     "execution_count": 1859,
     "metadata": {},
     "output_type": "execute_result"
    }
   ],
   "source": [
    "df.City_Mileage.head(20)"
   ]
  },
  {
   "cell_type": "code",
   "execution_count": 1860,
   "id": "4275e727",
   "metadata": {},
   "outputs": [
    {
     "data": {
      "text/plain": [
       "589"
      ]
     },
     "execution_count": 1860,
     "metadata": {},
     "output_type": "execute_result"
    }
   ],
   "source": [
    "df.City_Mileage.isnull().sum()"
   ]
  },
  {
   "cell_type": "code",
   "execution_count": 1861,
   "id": "7ec59d94",
   "metadata": {},
   "outputs": [
    {
     "data": {
      "text/plain": [
       "53.60717612809321"
      ]
     },
     "execution_count": 1861,
     "metadata": {},
     "output_type": "execute_result"
    }
   ],
   "source": [
    "df.City_Mileage.mean()"
   ]
  },
  {
   "cell_type": "code",
   "execution_count": 1862,
   "id": "dffc59c6",
   "metadata": {},
   "outputs": [],
   "source": [
    "df.City_Mileage.fillna(28.86,inplace= True)"
   ]
  },
  {
   "cell_type": "code",
   "execution_count": 1863,
   "id": "59d36974",
   "metadata": {},
   "outputs": [
    {
     "data": {
      "text/plain": [
       "0      23.60\n",
       "1      23.60\n",
       "2      28.86\n",
       "3      23.60\n",
       "4      23.60\n",
       "       ...  \n",
       "195    28.86\n",
       "196    28.86\n",
       "197    28.86\n",
       "198    20.32\n",
       "199    20.30\n",
       "Name: City_Mileage, Length: 200, dtype: float64"
      ]
     },
     "execution_count": 1863,
     "metadata": {},
     "output_type": "execute_result"
    }
   ],
   "source": [
    "df.City_Mileage.head(200)"
   ]
  },
  {
   "cell_type": "code",
   "execution_count": 1864,
   "id": "ada2b8cc",
   "metadata": {},
   "outputs": [
    {
     "data": {
      "text/plain": [
       "42.18391065830745"
      ]
     },
     "execution_count": 1864,
     "metadata": {},
     "output_type": "execute_result"
    }
   ],
   "source": [
    "df.City_Mileage.mean()"
   ]
  },
  {
   "cell_type": "code",
   "execution_count": 1865,
   "id": "75d6bede",
   "metadata": {},
   "outputs": [
    {
     "data": {
      "text/plain": [
       "28.86"
      ]
     },
     "execution_count": 1865,
     "metadata": {},
     "output_type": "execute_result"
    }
   ],
   "source": [
    "df.City_Mileage[169]"
   ]
  },
  {
   "cell_type": "code",
   "execution_count": 1866,
   "id": "aada621e",
   "metadata": {},
   "outputs": [
    {
     "data": {
      "text/plain": [
       "0"
      ]
     },
     "execution_count": 1866,
     "metadata": {},
     "output_type": "execute_result"
    }
   ],
   "source": [
    "df.City_Mileage.isnull().sum()"
   ]
  },
  {
   "cell_type": "code",
   "execution_count": 1867,
   "id": "fb7d8132",
   "metadata": {},
   "outputs": [
    {
     "name": "stderr",
     "output_type": "stream",
     "text": [
      "C:\\Users\\abbas\\AppData\\Local\\Temp/ipykernel_94564/1092447020.py:1: FutureWarning: The default value of regex will change from True to False in a future version.\n",
      "  df.Highway_Mileage=df.Highway_Mileage.str.replace('km/litre',' ').str.replace('8.3-8.4','8.3 ')\n"
     ]
    },
    {
     "data": {
      "text/plain": [
       "0         NaN\n",
       "1         NaN\n",
       "2         NaN\n",
       "3         NaN\n",
       "4         NaN\n",
       "        ...  \n",
       "1271    25.10\n",
       "1272    25.10\n",
       "1273    18.00\n",
       "1274    16.40\n",
       "1275    11.56\n",
       "Name: Highway_Mileage, Length: 1276, dtype: float64"
      ]
     },
     "execution_count": 1867,
     "metadata": {},
     "output_type": "execute_result"
    }
   ],
   "source": [
    "df.Highway_Mileage=df.Highway_Mileage.str.replace('km/litre',' ').str.replace('8.3-8.4','8.3 ')\n",
    "df.Highway_Mileage=pd.to_numeric(df.Highway_Mileage)\n",
    "\n",
    "df.Highway_Mileage"
   ]
  },
  {
   "cell_type": "code",
   "execution_count": null,
   "id": "ee017d97",
   "metadata": {},
   "outputs": [],
   "source": []
  },
  {
   "cell_type": "code",
   "execution_count": 1868,
   "id": "b21b9d0f",
   "metadata": {},
   "outputs": [],
   "source": [
    "df.Highway_Mileage.mode()\n",
    "df.Highway_Mileage=df.Highway_Mileage.fillna(22.0)"
   ]
  },
  {
   "cell_type": "code",
   "execution_count": 1869,
   "id": "3609a251",
   "metadata": {},
   "outputs": [
    {
     "data": {
      "text/plain": [
       "0"
      ]
     },
     "execution_count": 1869,
     "metadata": {},
     "output_type": "execute_result"
    }
   ],
   "source": [
    "df.Highway_Mileage.isnull().sum()"
   ]
  },
  {
   "cell_type": "code",
   "execution_count": 1870,
   "id": "429c24cd",
   "metadata": {},
   "outputs": [
    {
     "data": {
      "text/plain": [
       "Unnamed: 0                           0\n",
       "Make                                 0\n",
       "Model                                0\n",
       "Variant                              0\n",
       "Ex-Showroom_Price                    0\n",
       "Displacement                         0\n",
       "Cylinders                            0\n",
       "Valves_Per_Cylinder                  0\n",
       "Drivetrain                           7\n",
       "Cylinder_Configuration              13\n",
       "Emission_Norm                       11\n",
       "Engine_Location                     43\n",
       "Fuel_System                          8\n",
       "Fuel_Tank_Capacity                  69\n",
       "Fuel_Type                            0\n",
       "Height                               1\n",
       "Length                               0\n",
       "Width                               12\n",
       "Body_Type                            6\n",
       "Doors                                4\n",
       "City_Mileage                         0\n",
       "Highway_Mileage                      0\n",
       "ARAI_Certified_Mileage             114\n",
       "ARAI_Certified_Mileage_for_CNG    1249\n",
       "Kerb_Weight                        365\n",
       "Gears                              105\n",
       "Ground_Clearance                   289\n",
       "Front_Brakes                        25\n",
       "Rear_Brakes                         25\n",
       "Front_Suspension                    59\n",
       "Rear_Suspension                     46\n",
       "Front_Track                        667\n",
       "Rear_Track                         676\n",
       "Front_Tyre_&_Rim                    49\n",
       "Rear_Tyre_&_Rim                     48\n",
       "Power_Steering                      57\n",
       "Power_Windows                       97\n",
       "Power_Seats                        893\n",
       "Keyless_Entry                      274\n",
       "Power                                0\n",
       "Torque                               2\n",
       "Odometer                            43\n",
       "Speedometer                         45\n",
       "Tachometer                          13\n",
       "Tripmeter                           60\n",
       "Seating_Capacity                     6\n",
       "Seats_Material                      12\n",
       "Type                                 1\n",
       "Wheelbase                           20\n",
       "Wheels_Size                         56\n",
       "dtype: int64"
      ]
     },
     "execution_count": 1870,
     "metadata": {},
     "output_type": "execute_result"
    }
   ],
   "source": [
    "df.isnull().sum()[:50]"
   ]
  },
  {
   "cell_type": "code",
   "execution_count": 1871,
   "id": "64561fe2",
   "metadata": {},
   "outputs": [
    {
     "data": {
      "text/plain": [
       "2"
      ]
     },
     "execution_count": 1871,
     "metadata": {},
     "output_type": "execute_result"
    }
   ],
   "source": [
    "df.Torque.isnull().sum()"
   ]
  },
  {
   "cell_type": "code",
   "execution_count": 1872,
   "id": "2042b9d5",
   "metadata": {},
   "outputs": [
    {
     "data": {
      "text/plain": [
       "0"
      ]
     },
     "execution_count": 1872,
     "metadata": {},
     "output_type": "execute_result"
    }
   ],
   "source": [
    "df.Power.isnull().sum()"
   ]
  },
  {
   "cell_type": "code",
   "execution_count": null,
   "id": "47fc0b94",
   "metadata": {},
   "outputs": [],
   "source": []
  },
  {
   "cell_type": "code",
   "execution_count": 1873,
   "id": "75254524",
   "metadata": {},
   "outputs": [
    {
     "data": {
      "text/plain": [
       "0        Rs. 2,92,667\n",
       "1        Rs. 2,36,447\n",
       "2        Rs. 2,96,661\n",
       "3        Rs. 3,34,768\n",
       "4        Rs. 2,72,223\n",
       "            ...      \n",
       "1271    Rs. 13,02,000\n",
       "1272    Rs. 14,21,000\n",
       "1273    Rs. 14,31,000\n",
       "1274    Rs. 12,01,000\n",
       "1275    Rs. 68,62,560\n",
       "Name: Ex-Showroom_Price, Length: 1276, dtype: object"
      ]
     },
     "execution_count": 1873,
     "metadata": {},
     "output_type": "execute_result"
    }
   ],
   "source": [
    "df['Ex-Showroom_Price']"
   ]
  },
  {
   "cell_type": "code",
   "execution_count": 1874,
   "id": "778a63d9",
   "metadata": {},
   "outputs": [
    {
     "data": {
      "text/plain": [
       "0     Rs. 2,92,667\n",
       "1     Rs. 2,36,447\n",
       "2     Rs. 2,96,661\n",
       "3     Rs. 3,34,768\n",
       "4     Rs. 2,72,223\n",
       "5     Rs. 3,14,815\n",
       "6     Rs. 2,79,650\n",
       "7     Rs. 3,51,832\n",
       "8     Rs. 3,33,419\n",
       "9     Rs. 3,62,000\n",
       "10    Rs. 3,90,000\n",
       "11    Rs. 4,37,065\n",
       "12    Rs. 3,53,290\n",
       "13    Rs. 2,83,290\n",
       "14    Rs. 3,83,290\n",
       "15    Rs. 4,13,290\n",
       "16    Rs. 4,33,290\n",
       "17    Rs. 4,54,490\n",
       "18    Rs. 4,63,290\n",
       "19    Rs. 4,84,490\n",
       "20    Rs. 4,40,990\n",
       "21    Rs. 4,70,990\n",
       "22    Rs. 4,62,190\n",
       "23    Rs. 4,92,190\n",
       "24    Rs. 3,52,136\n",
       "25    Rs. 3,80,573\n",
       "26    Rs. 3,92,967\n",
       "27    Rs. 4,66,057\n",
       "28    Rs. 4,25,255\n",
       "29    Rs. 3,77,588\n",
       "30    Rs. 3,94,036\n",
       "31    Rs. 3,60,843\n",
       "32    Rs. 4,07,238\n",
       "33    Rs. 4,39,777\n",
       "34    Rs. 4,38,559\n",
       "35    Rs. 3,74,990\n",
       "36    Rs. 4,68,229\n",
       "37    Rs. 5,02,492\n",
       "38    Rs. 4,99,990\n",
       "39    Rs. 4,69,990\n",
       "40    Rs. 5,28,464\n",
       "41    Rs. 5,53,015\n",
       "42    Rs. 5,94,464\n",
       "43    Rs. 6,18,015\n",
       "44    Rs. 4,22,444\n",
       "45    Rs. 4,80,670\n",
       "46    Rs. 4,29,990\n",
       "47    Rs. 5,03,990\n",
       "48    Rs. 5,47,990\n",
       "49    Rs. 5,30,990\n",
       "50    Rs. 5,12,990\n",
       "51    Rs. 5,78,990\n",
       "52    Rs. 5,70,990\n",
       "53    Rs. 5,56,490\n",
       "54    Rs. 4,60,000\n",
       "55    Rs. 5,20,000\n",
       "56    Rs. 5,70,000\n",
       "57    Rs. 5,99,000\n",
       "58    Rs. 6,10,000\n",
       "59    Rs. 6,20,000\n",
       "Name: Ex-Showroom_Price, dtype: object"
      ]
     },
     "execution_count": 1874,
     "metadata": {},
     "output_type": "execute_result"
    }
   ],
   "source": [
    "df['Ex-Showroom_Price'].head(60)"
   ]
  },
  {
   "cell_type": "code",
   "execution_count": 1875,
   "id": "6c445585",
   "metadata": {},
   "outputs": [
    {
     "name": "stderr",
     "output_type": "stream",
     "text": [
      "C:\\Users\\abbas\\AppData\\Local\\Temp/ipykernel_94564/316627203.py:1: FutureWarning: The default value of regex will change from True to False in a future version.\n",
      "  df['Ex-Showroom_Price']=df['Ex-Showroom_Price'].str.replace('Rs. ',\" \").str.replace(',','')\n"
     ]
    }
   ],
   "source": [
    "df['Ex-Showroom_Price']=df['Ex-Showroom_Price'].str.replace('Rs. ',\" \").str.replace(',','')"
   ]
  },
  {
   "cell_type": "code",
   "execution_count": 1876,
   "id": "3ec32603",
   "metadata": {},
   "outputs": [
    {
     "data": {
      "text/plain": [
       "0         292667\n",
       "1         236447\n",
       "2         296661\n",
       "3         334768\n",
       "4         272223\n",
       "          ...   \n",
       "1271     1302000\n",
       "1272     1421000\n",
       "1273     1431000\n",
       "1274     1201000\n",
       "1275     6862560\n",
       "Name: Ex-Showroom_Price, Length: 1276, dtype: object"
      ]
     },
     "execution_count": 1876,
     "metadata": {},
     "output_type": "execute_result"
    }
   ],
   "source": [
    "df['Ex-Showroom_Price']"
   ]
  },
  {
   "cell_type": "code",
   "execution_count": 1877,
   "id": "e2a47e92",
   "metadata": {},
   "outputs": [],
   "source": [
    "df['Ex-Showroom_Price'] = pd.to_numeric(df['Ex-Showroom_Price'],errors='coerce')\n"
   ]
  },
  {
   "cell_type": "code",
   "execution_count": 1878,
   "id": "681331ed",
   "metadata": {},
   "outputs": [
    {
     "data": {
      "text/plain": [
       "0        292667\n",
       "1        236447\n",
       "2        296661\n",
       "3        334768\n",
       "4        272223\n",
       "         ...   \n",
       "1271    1302000\n",
       "1272    1421000\n",
       "1273    1431000\n",
       "1274    1201000\n",
       "1275    6862560\n",
       "Name: Ex-Showroom_Price, Length: 1276, dtype: int64"
      ]
     },
     "execution_count": 1878,
     "metadata": {},
     "output_type": "execute_result"
    }
   ],
   "source": [
    "df['Ex-Showroom_Price']"
   ]
  },
  {
   "cell_type": "code",
   "execution_count": 1879,
   "id": "25e90e72",
   "metadata": {},
   "outputs": [
    {
     "data": {
      "text/plain": [
       "4596537.887147335"
      ]
     },
     "execution_count": 1879,
     "metadata": {},
     "output_type": "execute_result"
    }
   ],
   "source": [
    "df['Ex-Showroom_Price'].mean()"
   ]
  },
  {
   "cell_type": "code",
   "execution_count": 1880,
   "id": "f7b05514",
   "metadata": {},
   "outputs": [
    {
     "data": {
      "text/plain": [
       "Unnamed: 0                           0\n",
       "Make                                 0\n",
       "Model                                0\n",
       "Variant                              0\n",
       "Ex-Showroom_Price                    0\n",
       "Displacement                         0\n",
       "Cylinders                            0\n",
       "Valves_Per_Cylinder                  0\n",
       "Drivetrain                           7\n",
       "Cylinder_Configuration              13\n",
       "Emission_Norm                       11\n",
       "Engine_Location                     43\n",
       "Fuel_System                          8\n",
       "Fuel_Tank_Capacity                  69\n",
       "Fuel_Type                            0\n",
       "Height                               1\n",
       "Length                               0\n",
       "Width                               12\n",
       "Body_Type                            6\n",
       "Doors                                4\n",
       "City_Mileage                         0\n",
       "Highway_Mileage                      0\n",
       "ARAI_Certified_Mileage             114\n",
       "ARAI_Certified_Mileage_for_CNG    1249\n",
       "Kerb_Weight                        365\n",
       "Gears                              105\n",
       "Ground_Clearance                   289\n",
       "Front_Brakes                        25\n",
       "Rear_Brakes                         25\n",
       "Front_Suspension                    59\n",
       "Rear_Suspension                     46\n",
       "Front_Track                        667\n",
       "Rear_Track                         676\n",
       "Front_Tyre_&_Rim                    49\n",
       "Rear_Tyre_&_Rim                     48\n",
       "Power_Steering                      57\n",
       "Power_Windows                       97\n",
       "Power_Seats                        893\n",
       "Keyless_Entry                      274\n",
       "Power                                0\n",
       "Torque                               2\n",
       "Odometer                            43\n",
       "Speedometer                         45\n",
       "Tachometer                          13\n",
       "Tripmeter                           60\n",
       "Seating_Capacity                     6\n",
       "Seats_Material                      12\n",
       "Type                                 1\n",
       "Wheelbase                           20\n",
       "Wheels_Size                         56\n",
       "Start_/_Stop_Button                678\n",
       "12v_Power_Outlet                   154\n",
       "Audiosystem                         44\n",
       "Aux-in_Compatibility               284\n",
       "Average_Fuel_Consumption           345\n",
       "Basic_Warranty                     440\n",
       "Bluetooth                          292\n",
       "Boot-lid_Opener                     14\n",
       "Boot_Space                         258\n",
       "CD_/_MP3_/_DVD_Player              309\n",
       "dtype: int64"
      ]
     },
     "execution_count": 1880,
     "metadata": {},
     "output_type": "execute_result"
    }
   ],
   "source": [
    "df.isnull().sum()[:60]"
   ]
  },
  {
   "cell_type": "code",
   "execution_count": 1881,
   "id": "49f9d0ed",
   "metadata": {},
   "outputs": [
    {
     "data": {
      "text/plain": [
       "0              Tata\n",
       "1              Tata\n",
       "2              Tata\n",
       "3              Tata\n",
       "4              Tata\n",
       "5              Tata\n",
       "6            Datsun\n",
       "7            Datsun\n",
       "8            Datsun\n",
       "9            Datsun\n",
       "10           Datsun\n",
       "11           Datsun\n",
       "12          Renault\n",
       "13          Renault\n",
       "14          Renault\n",
       "15          Renault\n",
       "16          Renault\n",
       "17          Renault\n",
       "18          Renault\n",
       "19          Renault\n",
       "20          Renault\n",
       "21          Renault\n",
       "22          Renault\n",
       "23          Renault\n",
       "24    Maruti Suzuki\n",
       "25    Maruti Suzuki\n",
       "26    Maruti Suzuki\n",
       "27    Maruti Suzuki\n",
       "28    Maruti Suzuki\n",
       "29    Maruti Suzuki\n",
       "30    Maruti Suzuki\n",
       "31    Maruti Suzuki\n",
       "32    Maruti Suzuki\n",
       "33    Maruti Suzuki\n",
       "34    Maruti Suzuki\n",
       "35           Datsun\n",
       "36           Datsun\n",
       "37           Datsun\n",
       "38           Datsun\n",
       "39           Datsun\n",
       "40           Datsun\n",
       "41           Datsun\n",
       "42           Datsun\n",
       "43           Datsun\n",
       "44    Maruti Suzuki\n",
       "45    Maruti Suzuki\n",
       "46          Hyundai\n",
       "47          Hyundai\n",
       "48          Hyundai\n",
       "49          Hyundai\n",
       "50          Hyundai\n",
       "51          Hyundai\n",
       "52          Hyundai\n",
       "53          Hyundai\n",
       "54             Tata\n",
       "55             Tata\n",
       "56             Tata\n",
       "57             Tata\n",
       "58             Tata\n",
       "59             Tata\n",
       "Name: Make, dtype: object"
      ]
     },
     "execution_count": 1881,
     "metadata": {},
     "output_type": "execute_result"
    }
   ],
   "source": [
    "df.Make[:60]"
   ]
  },
  {
   "cell_type": "code",
   "execution_count": 1882,
   "id": "6c0f5458",
   "metadata": {},
   "outputs": [
    {
     "data": {
      "text/plain": [
       "0"
      ]
     },
     "execution_count": 1882,
     "metadata": {},
     "output_type": "execute_result"
    }
   ],
   "source": [
    "df.Make.isnull().sum()"
   ]
  },
  {
   "cell_type": "code",
   "execution_count": 1883,
   "id": "e1785807",
   "metadata": {},
   "outputs": [
    {
     "data": {
      "text/plain": [
       "0       24 litres\n",
       "1       24 litres\n",
       "2       15 litres\n",
       "3       24 litres\n",
       "4       24 litres\n",
       "          ...    \n",
       "1271    40 litres\n",
       "1272    40 litres\n",
       "1273    40 litres\n",
       "1274    40 litres\n",
       "1275    88 litres\n",
       "Name: Fuel_Tank_Capacity, Length: 1276, dtype: object"
      ]
     },
     "execution_count": 1883,
     "metadata": {},
     "output_type": "execute_result"
    }
   ],
   "source": [
    "df.Fuel_Tank_Capacity"
   ]
  },
  {
   "cell_type": "code",
   "execution_count": 1884,
   "id": "341a42dd",
   "metadata": {},
   "outputs": [],
   "source": [
    "#tfm = OneHotEncoder(categories='auto',drop=None,sparse=True,handle_unknown='ignore')"
   ]
  },
  {
   "cell_type": "markdown",
   "id": "9b1a3a2a",
   "metadata": {},
   "source": [
    "##### making a new dataframe called col to store specific columns which we are going to use"
   ]
  },
  {
   "cell_type": "code",
   "execution_count": 1885,
   "id": "85ef44bc",
   "metadata": {},
   "outputs": [],
   "source": [
    "col=df[['Make','Model','Body_Type','Variant','Ex-Showroom_Price','Fuel_Tank_Capacity','Cylinders','Power','Torque','Boot_Space','City_Mileage','Highway_Mileage']]"
   ]
  },
  {
   "cell_type": "code",
   "execution_count": 1886,
   "id": "57f7623a",
   "metadata": {},
   "outputs": [],
   "source": [
    "#tfm.fit_transform(col)"
   ]
  },
  {
   "cell_type": "code",
   "execution_count": 1887,
   "id": "3952e080",
   "metadata": {},
   "outputs": [],
   "source": [
    "#tfm.categories_"
   ]
  },
  {
   "cell_type": "code",
   "execution_count": 1888,
   "id": "44067381",
   "metadata": {},
   "outputs": [],
   "source": [
    "labelencoder = LabelEncoder()"
   ]
  },
  {
   "cell_type": "markdown",
   "id": "89f61a80",
   "metadata": {},
   "source": [
    "### Using Label Encoder so we can work with columns that have categorical data"
   ]
  },
  {
   "cell_type": "code",
   "execution_count": 1889,
   "id": "32c2f7f2",
   "metadata": {},
   "outputs": [
    {
     "name": "stderr",
     "output_type": "stream",
     "text": [
      "C:\\Users\\abbas\\AppData\\Local\\Temp/ipykernel_94564/1087917959.py:1: SettingWithCopyWarning: \n",
      "A value is trying to be set on a copy of a slice from a DataFrame.\n",
      "Try using .loc[row_indexer,col_indexer] = value instead\n",
      "\n",
      "See the caveats in the documentation: https://pandas.pydata.org/pandas-docs/stable/user_guide/indexing.html#returning-a-view-versus-a-copy\n",
      "  col['MakeLabEnc']=labelencoder.fit_transform(df['Make'])\n",
      "C:\\Users\\abbas\\AppData\\Local\\Temp/ipykernel_94564/1087917959.py:2: SettingWithCopyWarning: \n",
      "A value is trying to be set on a copy of a slice from a DataFrame.\n",
      "Try using .loc[row_indexer,col_indexer] = value instead\n",
      "\n",
      "See the caveats in the documentation: https://pandas.pydata.org/pandas-docs/stable/user_guide/indexing.html#returning-a-view-versus-a-copy\n",
      "  col['ModelLabEnc']=labelencoder.fit_transform(df['Model'])\n",
      "C:\\Users\\abbas\\AppData\\Local\\Temp/ipykernel_94564/1087917959.py:3: SettingWithCopyWarning: \n",
      "A value is trying to be set on a copy of a slice from a DataFrame.\n",
      "Try using .loc[row_indexer,col_indexer] = value instead\n",
      "\n",
      "See the caveats in the documentation: https://pandas.pydata.org/pandas-docs/stable/user_guide/indexing.html#returning-a-view-versus-a-copy\n",
      "  col['Body_typeLabEnc']=labelencoder.fit_transform(df['Body_Type'])\n",
      "C:\\Users\\abbas\\AppData\\Local\\Temp/ipykernel_94564/1087917959.py:4: SettingWithCopyWarning: \n",
      "A value is trying to be set on a copy of a slice from a DataFrame.\n",
      "Try using .loc[row_indexer,col_indexer] = value instead\n",
      "\n",
      "See the caveats in the documentation: https://pandas.pydata.org/pandas-docs/stable/user_guide/indexing.html#returning-a-view-versus-a-copy\n",
      "  col['PowerLabEnc']=labelencoder.fit_transform(df['Power'])\n",
      "C:\\Users\\abbas\\AppData\\Local\\Temp/ipykernel_94564/1087917959.py:5: SettingWithCopyWarning: \n",
      "A value is trying to be set on a copy of a slice from a DataFrame.\n",
      "Try using .loc[row_indexer,col_indexer] = value instead\n",
      "\n",
      "See the caveats in the documentation: https://pandas.pydata.org/pandas-docs/stable/user_guide/indexing.html#returning-a-view-versus-a-copy\n",
      "  col['TorqueLabEnc']=labelencoder.fit_transform(df['Torque'])\n"
     ]
    }
   ],
   "source": [
    "col['MakeLabEnc']=labelencoder.fit_transform(df['Make'])\n",
    "col['ModelLabEnc']=labelencoder.fit_transform(df['Model'])\n",
    "col['Body_typeLabEnc']=labelencoder.fit_transform(df['Body_Type'])\n",
    "col['PowerLabEnc']=labelencoder.fit_transform(df['Power'])\n",
    "col['TorqueLabEnc']=labelencoder.fit_transform(df['Torque'])"
   ]
  },
  {
   "cell_type": "code",
   "execution_count": 1890,
   "id": "0945648e",
   "metadata": {},
   "outputs": [
    {
     "data": {
      "text/plain": [
       "0"
      ]
     },
     "execution_count": 1890,
     "metadata": {},
     "output_type": "execute_result"
    }
   ],
   "source": [
    " col.TorqueLabEnc.isnull().sum()"
   ]
  },
  {
   "cell_type": "code",
   "execution_count": 1891,
   "id": "413f05e1",
   "metadata": {},
   "outputs": [
    {
     "data": {
      "text/plain": [
       "0"
      ]
     },
     "execution_count": 1891,
     "metadata": {},
     "output_type": "execute_result"
    }
   ],
   "source": [
    "col.Body_typeLabEnc.isnull().sum()"
   ]
  },
  {
   "cell_type": "code",
   "execution_count": 1892,
   "id": "3923015b",
   "metadata": {},
   "outputs": [
    {
     "data": {
      "text/html": [
       "<div>\n",
       "<style scoped>\n",
       "    .dataframe tbody tr th:only-of-type {\n",
       "        vertical-align: middle;\n",
       "    }\n",
       "\n",
       "    .dataframe tbody tr th {\n",
       "        vertical-align: top;\n",
       "    }\n",
       "\n",
       "    .dataframe thead th {\n",
       "        text-align: right;\n",
       "    }\n",
       "</style>\n",
       "<table border=\"1\" class=\"dataframe\">\n",
       "  <thead>\n",
       "    <tr style=\"text-align: right;\">\n",
       "      <th></th>\n",
       "      <th>Make</th>\n",
       "      <th>Model</th>\n",
       "      <th>Body_Type</th>\n",
       "      <th>Variant</th>\n",
       "      <th>Ex-Showroom_Price</th>\n",
       "      <th>Fuel_Tank_Capacity</th>\n",
       "      <th>Cylinders</th>\n",
       "      <th>Power</th>\n",
       "      <th>Torque</th>\n",
       "      <th>Boot_Space</th>\n",
       "      <th>City_Mileage</th>\n",
       "      <th>Highway_Mileage</th>\n",
       "      <th>MakeLabEnc</th>\n",
       "      <th>ModelLabEnc</th>\n",
       "      <th>Body_typeLabEnc</th>\n",
       "      <th>PowerLabEnc</th>\n",
       "      <th>TorqueLabEnc</th>\n",
       "    </tr>\n",
       "  </thead>\n",
       "  <tbody>\n",
       "    <tr>\n",
       "      <th>0</th>\n",
       "      <td>Tata</td>\n",
       "      <td>Nano Genx</td>\n",
       "      <td>Hatchback</td>\n",
       "      <td>Xt</td>\n",
       "      <td>292667</td>\n",
       "      <td>24 litres</td>\n",
       "      <td>2.0</td>\n",
       "      <td>38PS@5500rpm</td>\n",
       "      <td>51Nm@4000rpm</td>\n",
       "      <td>110.0</td>\n",
       "      <td>23.60</td>\n",
       "      <td>22.0</td>\n",
       "      <td>36</td>\n",
       "      <td>158</td>\n",
       "      <td>5</td>\n",
       "      <td>221</td>\n",
       "      <td>248</td>\n",
       "    </tr>\n",
       "    <tr>\n",
       "      <th>1</th>\n",
       "      <td>Tata</td>\n",
       "      <td>Nano Genx</td>\n",
       "      <td>Hatchback</td>\n",
       "      <td>Xe</td>\n",
       "      <td>236447</td>\n",
       "      <td>24 litres</td>\n",
       "      <td>2.0</td>\n",
       "      <td>38PS@5500rpm</td>\n",
       "      <td>51Nm@4000rpm</td>\n",
       "      <td>110.0</td>\n",
       "      <td>23.60</td>\n",
       "      <td>22.0</td>\n",
       "      <td>36</td>\n",
       "      <td>158</td>\n",
       "      <td>5</td>\n",
       "      <td>221</td>\n",
       "      <td>248</td>\n",
       "    </tr>\n",
       "    <tr>\n",
       "      <th>2</th>\n",
       "      <td>Tata</td>\n",
       "      <td>Nano Genx</td>\n",
       "      <td>Hatchback</td>\n",
       "      <td>Emax Xm</td>\n",
       "      <td>296661</td>\n",
       "      <td>15 litres</td>\n",
       "      <td>2.0</td>\n",
       "      <td>38PS@5500rpm</td>\n",
       "      <td>51Nm@4000rpm</td>\n",
       "      <td>110.0</td>\n",
       "      <td>28.86</td>\n",
       "      <td>22.0</td>\n",
       "      <td>36</td>\n",
       "      <td>158</td>\n",
       "      <td>5</td>\n",
       "      <td>221</td>\n",
       "      <td>248</td>\n",
       "    </tr>\n",
       "    <tr>\n",
       "      <th>3</th>\n",
       "      <td>Tata</td>\n",
       "      <td>Nano Genx</td>\n",
       "      <td>Hatchback</td>\n",
       "      <td>Xta</td>\n",
       "      <td>334768</td>\n",
       "      <td>24 litres</td>\n",
       "      <td>2.0</td>\n",
       "      <td>38PS@5500rpm</td>\n",
       "      <td>51Nm@4000rpm</td>\n",
       "      <td>94.0</td>\n",
       "      <td>23.60</td>\n",
       "      <td>22.0</td>\n",
       "      <td>36</td>\n",
       "      <td>158</td>\n",
       "      <td>5</td>\n",
       "      <td>221</td>\n",
       "      <td>248</td>\n",
       "    </tr>\n",
       "    <tr>\n",
       "      <th>4</th>\n",
       "      <td>Tata</td>\n",
       "      <td>Nano Genx</td>\n",
       "      <td>Hatchback</td>\n",
       "      <td>Xm</td>\n",
       "      <td>272223</td>\n",
       "      <td>24 litres</td>\n",
       "      <td>2.0</td>\n",
       "      <td>38PS@5500rpm</td>\n",
       "      <td>51Nm@4000rpm</td>\n",
       "      <td>110.0</td>\n",
       "      <td>23.60</td>\n",
       "      <td>22.0</td>\n",
       "      <td>36</td>\n",
       "      <td>158</td>\n",
       "      <td>5</td>\n",
       "      <td>221</td>\n",
       "      <td>248</td>\n",
       "    </tr>\n",
       "    <tr>\n",
       "      <th>5</th>\n",
       "      <td>Tata</td>\n",
       "      <td>Nano Genx</td>\n",
       "      <td>Hatchback</td>\n",
       "      <td>Xma</td>\n",
       "      <td>314815</td>\n",
       "      <td>24 litres</td>\n",
       "      <td>2.0</td>\n",
       "      <td>38PS@5500rpm</td>\n",
       "      <td>51Nm@4000rpm</td>\n",
       "      <td>94.0</td>\n",
       "      <td>23.60</td>\n",
       "      <td>22.0</td>\n",
       "      <td>36</td>\n",
       "      <td>158</td>\n",
       "      <td>5</td>\n",
       "      <td>221</td>\n",
       "      <td>248</td>\n",
       "    </tr>\n",
       "    <tr>\n",
       "      <th>6</th>\n",
       "      <td>Datsun</td>\n",
       "      <td>Redi-Go</td>\n",
       "      <td>Hatchback</td>\n",
       "      <td>D</td>\n",
       "      <td>279650</td>\n",
       "      <td>28 litres</td>\n",
       "      <td>3.0</td>\n",
       "      <td>54PS@5678rpm</td>\n",
       "      <td>72Nm@4386rpm</td>\n",
       "      <td>222.0</td>\n",
       "      <td>21.38</td>\n",
       "      <td>24.0</td>\n",
       "      <td>6</td>\n",
       "      <td>189</td>\n",
       "      <td>5</td>\n",
       "      <td>252</td>\n",
       "      <td>309</td>\n",
       "    </tr>\n",
       "    <tr>\n",
       "      <th>7</th>\n",
       "      <td>Datsun</td>\n",
       "      <td>Redi-Go</td>\n",
       "      <td>Hatchback</td>\n",
       "      <td>T</td>\n",
       "      <td>351832</td>\n",
       "      <td>28 litres</td>\n",
       "      <td>3.0</td>\n",
       "      <td>54PS@5678rpm</td>\n",
       "      <td>72Nm@4386rpm</td>\n",
       "      <td>222.0</td>\n",
       "      <td>21.38</td>\n",
       "      <td>24.0</td>\n",
       "      <td>6</td>\n",
       "      <td>189</td>\n",
       "      <td>5</td>\n",
       "      <td>252</td>\n",
       "      <td>309</td>\n",
       "    </tr>\n",
       "    <tr>\n",
       "      <th>8</th>\n",
       "      <td>Datsun</td>\n",
       "      <td>Redi-Go</td>\n",
       "      <td>Hatchback</td>\n",
       "      <td>A</td>\n",
       "      <td>333419</td>\n",
       "      <td>28 litres</td>\n",
       "      <td>3.0</td>\n",
       "      <td>54PS@5678rpm</td>\n",
       "      <td>72Nm@4386rpm</td>\n",
       "      <td>222.0</td>\n",
       "      <td>21.38</td>\n",
       "      <td>24.0</td>\n",
       "      <td>6</td>\n",
       "      <td>189</td>\n",
       "      <td>5</td>\n",
       "      <td>252</td>\n",
       "      <td>309</td>\n",
       "    </tr>\n",
       "    <tr>\n",
       "      <th>9</th>\n",
       "      <td>Datsun</td>\n",
       "      <td>Redi-Go</td>\n",
       "      <td>Hatchback</td>\n",
       "      <td>S</td>\n",
       "      <td>362000</td>\n",
       "      <td>28 litres</td>\n",
       "      <td>3.0</td>\n",
       "      <td>54PS@5678rpm</td>\n",
       "      <td>72Nm@4386rpm</td>\n",
       "      <td>222.0</td>\n",
       "      <td>21.38</td>\n",
       "      <td>24.0</td>\n",
       "      <td>6</td>\n",
       "      <td>189</td>\n",
       "      <td>5</td>\n",
       "      <td>252</td>\n",
       "      <td>309</td>\n",
       "    </tr>\n",
       "    <tr>\n",
       "      <th>10</th>\n",
       "      <td>Datsun</td>\n",
       "      <td>Redi-Go</td>\n",
       "      <td>Hatchback</td>\n",
       "      <td>1.0 S</td>\n",
       "      <td>390000</td>\n",
       "      <td>28 litres</td>\n",
       "      <td>3.0</td>\n",
       "      <td>68PS@5500rpm</td>\n",
       "      <td>91Nm@4250RPM</td>\n",
       "      <td>222.0</td>\n",
       "      <td>28.86</td>\n",
       "      <td>22.0</td>\n",
       "      <td>6</td>\n",
       "      <td>189</td>\n",
       "      <td>5</td>\n",
       "      <td>305</td>\n",
       "      <td>336</td>\n",
       "    </tr>\n",
       "    <tr>\n",
       "      <th>11</th>\n",
       "      <td>Datsun</td>\n",
       "      <td>Redi-Go</td>\n",
       "      <td>Hatchback</td>\n",
       "      <td>1.0 S Amt</td>\n",
       "      <td>437065</td>\n",
       "      <td>28 litres</td>\n",
       "      <td>3.0</td>\n",
       "      <td>68PS@5500rpm</td>\n",
       "      <td>91Nm@4250RPM</td>\n",
       "      <td>222.0</td>\n",
       "      <td>28.86</td>\n",
       "      <td>22.0</td>\n",
       "      <td>6</td>\n",
       "      <td>189</td>\n",
       "      <td>5</td>\n",
       "      <td>305</td>\n",
       "      <td>336</td>\n",
       "    </tr>\n",
       "    <tr>\n",
       "      <th>12</th>\n",
       "      <td>Renault</td>\n",
       "      <td>Kwid</td>\n",
       "      <td>Hatchback</td>\n",
       "      <td>Rxe 0.8</td>\n",
       "      <td>353290</td>\n",
       "      <td>28 litres</td>\n",
       "      <td>3.0</td>\n",
       "      <td>54PS@5678rpm</td>\n",
       "      <td>72Nm@4386rpm</td>\n",
       "      <td>300.0</td>\n",
       "      <td>25.17</td>\n",
       "      <td>22.0</td>\n",
       "      <td>34</td>\n",
       "      <td>115</td>\n",
       "      <td>5</td>\n",
       "      <td>252</td>\n",
       "      <td>309</td>\n",
       "    </tr>\n",
       "    <tr>\n",
       "      <th>13</th>\n",
       "      <td>Renault</td>\n",
       "      <td>Kwid</td>\n",
       "      <td>Hatchback</td>\n",
       "      <td>Std 0.8</td>\n",
       "      <td>283290</td>\n",
       "      <td>28 litres</td>\n",
       "      <td>3.0</td>\n",
       "      <td>54PS@5678rpm</td>\n",
       "      <td>72Nm@4386rpm</td>\n",
       "      <td>300.0</td>\n",
       "      <td>25.17</td>\n",
       "      <td>22.0</td>\n",
       "      <td>34</td>\n",
       "      <td>115</td>\n",
       "      <td>5</td>\n",
       "      <td>252</td>\n",
       "      <td>309</td>\n",
       "    </tr>\n",
       "    <tr>\n",
       "      <th>14</th>\n",
       "      <td>Renault</td>\n",
       "      <td>Kwid</td>\n",
       "      <td>Hatchback</td>\n",
       "      <td>Rxl 0.8</td>\n",
       "      <td>383290</td>\n",
       "      <td>28 litres</td>\n",
       "      <td>3.0</td>\n",
       "      <td>54PS@5678rpm</td>\n",
       "      <td>72Nm@4386rpm</td>\n",
       "      <td>300.0</td>\n",
       "      <td>25.17</td>\n",
       "      <td>22.0</td>\n",
       "      <td>34</td>\n",
       "      <td>115</td>\n",
       "      <td>5</td>\n",
       "      <td>252</td>\n",
       "      <td>309</td>\n",
       "    </tr>\n",
       "    <tr>\n",
       "      <th>15</th>\n",
       "      <td>Renault</td>\n",
       "      <td>Kwid</td>\n",
       "      <td>Hatchback</td>\n",
       "      <td>Rxt 0.8</td>\n",
       "      <td>413290</td>\n",
       "      <td>28 litres</td>\n",
       "      <td>3.0</td>\n",
       "      <td>54PS@5678rpm</td>\n",
       "      <td>72Nm@4386rpm</td>\n",
       "      <td>300.0</td>\n",
       "      <td>25.17</td>\n",
       "      <td>22.0</td>\n",
       "      <td>34</td>\n",
       "      <td>115</td>\n",
       "      <td>5</td>\n",
       "      <td>252</td>\n",
       "      <td>309</td>\n",
       "    </tr>\n",
       "    <tr>\n",
       "      <th>16</th>\n",
       "      <td>Renault</td>\n",
       "      <td>Kwid</td>\n",
       "      <td>Hatchback</td>\n",
       "      <td>Rxt 1.0</td>\n",
       "      <td>433290</td>\n",
       "      <td>28 litres</td>\n",
       "      <td>3.0</td>\n",
       "      <td>68PS@5500rpm</td>\n",
       "      <td>91Nm@4250RPM</td>\n",
       "      <td>300.0</td>\n",
       "      <td>25.17</td>\n",
       "      <td>22.0</td>\n",
       "      <td>34</td>\n",
       "      <td>115</td>\n",
       "      <td>5</td>\n",
       "      <td>305</td>\n",
       "      <td>336</td>\n",
       "    </tr>\n",
       "    <tr>\n",
       "      <th>17</th>\n",
       "      <td>Renault</td>\n",
       "      <td>Kwid</td>\n",
       "      <td>Hatchback</td>\n",
       "      <td>Climber 1.0 Mt</td>\n",
       "      <td>454490</td>\n",
       "      <td>28 litres</td>\n",
       "      <td>3.0</td>\n",
       "      <td>68PS@5500rpm</td>\n",
       "      <td>91Nm@4250RPM</td>\n",
       "      <td>300.0</td>\n",
       "      <td>25.17</td>\n",
       "      <td>22.0</td>\n",
       "      <td>34</td>\n",
       "      <td>115</td>\n",
       "      <td>5</td>\n",
       "      <td>305</td>\n",
       "      <td>336</td>\n",
       "    </tr>\n",
       "    <tr>\n",
       "      <th>18</th>\n",
       "      <td>Renault</td>\n",
       "      <td>Kwid</td>\n",
       "      <td>Hatchback</td>\n",
       "      <td>Rxt Amt 1.0</td>\n",
       "      <td>463290</td>\n",
       "      <td>28 litres</td>\n",
       "      <td>3.0</td>\n",
       "      <td>68PS@5500rpm</td>\n",
       "      <td>91Nm@4250RPM</td>\n",
       "      <td>300.0</td>\n",
       "      <td>25.17</td>\n",
       "      <td>22.0</td>\n",
       "      <td>34</td>\n",
       "      <td>115</td>\n",
       "      <td>5</td>\n",
       "      <td>305</td>\n",
       "      <td>336</td>\n",
       "    </tr>\n",
       "    <tr>\n",
       "      <th>19</th>\n",
       "      <td>Renault</td>\n",
       "      <td>Kwid</td>\n",
       "      <td>Hatchback</td>\n",
       "      <td>Climber Amt 1.0</td>\n",
       "      <td>484490</td>\n",
       "      <td>28 litres</td>\n",
       "      <td>3.0</td>\n",
       "      <td>68PS@5500rpm</td>\n",
       "      <td>91Nm@4250RPM</td>\n",
       "      <td>300.0</td>\n",
       "      <td>25.17</td>\n",
       "      <td>22.0</td>\n",
       "      <td>34</td>\n",
       "      <td>115</td>\n",
       "      <td>5</td>\n",
       "      <td>305</td>\n",
       "      <td>336</td>\n",
       "    </tr>\n",
       "  </tbody>\n",
       "</table>\n",
       "</div>"
      ],
      "text/plain": [
       "       Make      Model  Body_Type          Variant  Ex-Showroom_Price  \\\n",
       "0      Tata  Nano Genx  Hatchback               Xt             292667   \n",
       "1      Tata  Nano Genx  Hatchback               Xe             236447   \n",
       "2      Tata  Nano Genx  Hatchback          Emax Xm             296661   \n",
       "3      Tata  Nano Genx  Hatchback              Xta             334768   \n",
       "4      Tata  Nano Genx  Hatchback               Xm             272223   \n",
       "5      Tata  Nano Genx  Hatchback              Xma             314815   \n",
       "6    Datsun    Redi-Go  Hatchback                D             279650   \n",
       "7    Datsun    Redi-Go  Hatchback                T             351832   \n",
       "8    Datsun    Redi-Go  Hatchback                A             333419   \n",
       "9    Datsun    Redi-Go  Hatchback                S             362000   \n",
       "10   Datsun    Redi-Go  Hatchback            1.0 S             390000   \n",
       "11   Datsun    Redi-Go  Hatchback        1.0 S Amt             437065   \n",
       "12  Renault       Kwid  Hatchback          Rxe 0.8             353290   \n",
       "13  Renault       Kwid  Hatchback          Std 0.8             283290   \n",
       "14  Renault       Kwid  Hatchback          Rxl 0.8             383290   \n",
       "15  Renault       Kwid  Hatchback          Rxt 0.8             413290   \n",
       "16  Renault       Kwid  Hatchback          Rxt 1.0             433290   \n",
       "17  Renault       Kwid  Hatchback   Climber 1.0 Mt             454490   \n",
       "18  Renault       Kwid  Hatchback      Rxt Amt 1.0             463290   \n",
       "19  Renault       Kwid  Hatchback  Climber Amt 1.0             484490   \n",
       "\n",
       "   Fuel_Tank_Capacity  Cylinders         Power        Torque  Boot_Space  \\\n",
       "0           24 litres        2.0  38PS@5500rpm  51Nm@4000rpm       110.0   \n",
       "1           24 litres        2.0  38PS@5500rpm  51Nm@4000rpm       110.0   \n",
       "2           15 litres        2.0  38PS@5500rpm  51Nm@4000rpm       110.0   \n",
       "3           24 litres        2.0  38PS@5500rpm  51Nm@4000rpm        94.0   \n",
       "4           24 litres        2.0  38PS@5500rpm  51Nm@4000rpm       110.0   \n",
       "5           24 litres        2.0  38PS@5500rpm  51Nm@4000rpm        94.0   \n",
       "6           28 litres        3.0  54PS@5678rpm  72Nm@4386rpm       222.0   \n",
       "7           28 litres        3.0  54PS@5678rpm  72Nm@4386rpm       222.0   \n",
       "8           28 litres        3.0  54PS@5678rpm  72Nm@4386rpm       222.0   \n",
       "9           28 litres        3.0  54PS@5678rpm  72Nm@4386rpm       222.0   \n",
       "10          28 litres        3.0  68PS@5500rpm  91Nm@4250RPM       222.0   \n",
       "11          28 litres        3.0  68PS@5500rpm  91Nm@4250RPM       222.0   \n",
       "12          28 litres        3.0  54PS@5678rpm  72Nm@4386rpm       300.0   \n",
       "13          28 litres        3.0  54PS@5678rpm  72Nm@4386rpm       300.0   \n",
       "14          28 litres        3.0  54PS@5678rpm  72Nm@4386rpm       300.0   \n",
       "15          28 litres        3.0  54PS@5678rpm  72Nm@4386rpm       300.0   \n",
       "16          28 litres        3.0  68PS@5500rpm  91Nm@4250RPM       300.0   \n",
       "17          28 litres        3.0  68PS@5500rpm  91Nm@4250RPM       300.0   \n",
       "18          28 litres        3.0  68PS@5500rpm  91Nm@4250RPM       300.0   \n",
       "19          28 litres        3.0  68PS@5500rpm  91Nm@4250RPM       300.0   \n",
       "\n",
       "    City_Mileage  Highway_Mileage  MakeLabEnc  ModelLabEnc  Body_typeLabEnc  \\\n",
       "0          23.60             22.0          36          158                5   \n",
       "1          23.60             22.0          36          158                5   \n",
       "2          28.86             22.0          36          158                5   \n",
       "3          23.60             22.0          36          158                5   \n",
       "4          23.60             22.0          36          158                5   \n",
       "5          23.60             22.0          36          158                5   \n",
       "6          21.38             24.0           6          189                5   \n",
       "7          21.38             24.0           6          189                5   \n",
       "8          21.38             24.0           6          189                5   \n",
       "9          21.38             24.0           6          189                5   \n",
       "10         28.86             22.0           6          189                5   \n",
       "11         28.86             22.0           6          189                5   \n",
       "12         25.17             22.0          34          115                5   \n",
       "13         25.17             22.0          34          115                5   \n",
       "14         25.17             22.0          34          115                5   \n",
       "15         25.17             22.0          34          115                5   \n",
       "16         25.17             22.0          34          115                5   \n",
       "17         25.17             22.0          34          115                5   \n",
       "18         25.17             22.0          34          115                5   \n",
       "19         25.17             22.0          34          115                5   \n",
       "\n",
       "    PowerLabEnc  TorqueLabEnc  \n",
       "0           221           248  \n",
       "1           221           248  \n",
       "2           221           248  \n",
       "3           221           248  \n",
       "4           221           248  \n",
       "5           221           248  \n",
       "6           252           309  \n",
       "7           252           309  \n",
       "8           252           309  \n",
       "9           252           309  \n",
       "10          305           336  \n",
       "11          305           336  \n",
       "12          252           309  \n",
       "13          252           309  \n",
       "14          252           309  \n",
       "15          252           309  \n",
       "16          305           336  \n",
       "17          305           336  \n",
       "18          305           336  \n",
       "19          305           336  "
      ]
     },
     "execution_count": 1892,
     "metadata": {},
     "output_type": "execute_result"
    }
   ],
   "source": [
    "col.head(20)"
   ]
  },
  {
   "cell_type": "code",
   "execution_count": 1893,
   "id": "006ae47b",
   "metadata": {},
   "outputs": [
    {
     "data": {
      "text/plain": [
       "array(['10.1kgm@4500RPM', '1000Nm@2300-4300rpm', '101Nm@3000rpm',\n",
       "       '1020Nm@1750rpm', '103.9Nm@3500-4250rpm', '103Nm@4500RPM',\n",
       "       '104Nm@3100rpm', '104Nm@4000rpm', '104Nm@4400rpm', '105Nm@2500RPM',\n",
       "       '110 Nm@4800rpm', '110Nm@4800rpm', '112.7Nm@4000rpm',\n",
       "       '1130Nm@4200rpm', '113Nm@3300rpm', '113Nm@4200 rpm',\n",
       "       '113Nm@4200RPM', '113Nm@4400 rpm', '114NM@3300rpm',\n",
       "       '114NM@3500rpm', '114Nm@4000rpm', '114Nm@6000rpm',\n",
       "       '115 Nm@4000rpm', '115NM@3500-3600RPM', '115Nm@4000rpm',\n",
       "       '115Nm@4500RPM', '120Nm@4250rpm', '130Nm@4400rpm', '132Nm@3000rpm',\n",
       "       '133Nm@4000rpm', '134Nm@4000rpm', '138Nm@4400rpm',\n",
       "       '140Nm@1500-4000rpm', '140Nm@1750-3000rpm', '140Nm@1800-3000rpm',\n",
       "       '140Nm@4200rpm', '142Nm@3600rpm', '142Nm@4000rpm',\n",
       "       '144Nm@4500 rpm', '145Nm@3750rpm', '145Nm@4600rpm',\n",
       "       '1479bhp@6700rpm', '150Nm@1700-4500RPM', '150Nm@4500rpm',\n",
       "       '151Nm@4850rpm', '152Nm@2250RPM', '152Nm@2500RPM',\n",
       "       '153Nm@3750-3800rpm', '153Nm@3800rpm', '155Nm@4850rpm',\n",
       "       '16.1Nm@4000rpm', '16.3Nm@1500-2750RPM', '1600Nm@2000-6000rpm',\n",
       "       '160Nm@1750rpm', '160Nm@2000rpm', '170Nm@1500-2750rpm',\n",
       "       '170Nm@1800-2400rpm', '1712Nm@1500-4000rpm', '172Nm@1500-4000rpm',\n",
       "       '172Nm@4000rpm', '173Nm@4000rpm', '174Nm@4300rpm',\n",
       "       '175Nm@1500-4100rpm', '175Nm@4000rpm', '18.9Nm@4000rpm',\n",
       "       '180Nm@1750rpm', '180Nm@4400rpm', '183Nm@1800-2400rpm',\n",
       "       '189NM@4300rpm', '190NM@1750-2250RPM', '190Nm@1250-3500rpm',\n",
       "       '190Nm@1750-3000rpm', '190Nm@2000rpm', '192NM@4000rpm',\n",
       "       '195Nm@1400-2200rpm', '195Nm@1440-2200RPM', '196Nm@4000rpm',\n",
       "       '197 Nm @ 1750 RPM', '197Nm@1750RPM', '200NM@1750-3000rpm',\n",
       "       '200Nm@1250-3000rpm', '200Nm@1250-4000rpm', '200Nm@1400-2200rpm',\n",
       "       '200Nm@1750rpm', '200Nm@1900rpm', '200Nm@2000rpm',\n",
       "       '205Nm@1750-3250rpm', '205Nm@1800-2800rpm', '207Nm@2200rpm',\n",
       "       '207Nm@4500rpm', '209Nm@2000rpm', '210Nm@2000-4000RPM',\n",
       "       '210Nm@4200-4400rpm', '212Nm@2000-4000rpm', '215Nm@1750-3000RPM',\n",
       "       '218Nm@1400-2600rpm', '22.4', '220Nm@1500-2750rpm',\n",
       "       '220Nm@1500rpm', '221Nm@3600-5200rpm', '222Nm@4100RPM',\n",
       "       '225Nm@1500-2250rpm', '225Nm@1750rpm', '230Nm@1400-2400rpm',\n",
       "       '230Nm@1500-2500rpm', '240Nm', '240Nm@1500-2250rpm',\n",
       "       '240Nm@1600-2800rpm', '240Nm@1600-500rpm', '240Nm@1750rpm',\n",
       "       '240Nm@2000-2500RPM', '242Nm@1500-3200rpm', '245 Nm @ 4000 rpm',\n",
       "       '245Nm', '245Nm@1200-3400RPM', '245Nm@1750rpm', '245Nm@4000rpm',\n",
       "       '247Nm@1800-2000rpm', '248Nm@2250rpm', '250 Nm @ 1250 RPM',\n",
       "       '250NM', '250NM@1250-5000rpm', '250Nm@1500-2500rpm',\n",
       "       '250Nm@1500-2750rpm', '250Nm@1500-3500', '250Nm@1500-3500rpm',\n",
       "       '250Nm@1750-2500rpm', '250Nm@2500-4000rpm', '260Nm@1500-2750rpm',\n",
       "       '260Nm@1500-3000rpm', '260Nm@1900-2750rpm', '270Nm@1750-2250rpm',\n",
       "       '270Nm@2500RPM', '280NM@1250-4600rpm', '280NM@1250rpm',\n",
       "       '280Nm@1350-4600rpm', '280Nm@1350rpm', '280Nm@1600rpm',\n",
       "       '280Nm@1800-2800rpm', '280Nm@2400-2800rpm', '300NM@2000rpm',\n",
       "       '300Nm@1200-1400rpm', '300Nm@1200-4000rpm', '300Nm@1500rpm',\n",
       "       '300Nm@1600-3000rpm', '300Nm@1750-2500rpm', '300Nm@1750rpm',\n",
       "       '300Nm@2000', '320 Nm@1450-4800rpm', '320NM@1800-2800RPM',\n",
       "       '320Nm@1450-3900rpm', '320Nm@1500-2800rpm', '320Nm@1650-4000rpm',\n",
       "       '320Nm@1700-2700rpm', '320Nm@1750-3000rpm', '320Nm@2000 - 3000rpm',\n",
       "       '320hp@1450-2000rpm', '321 Nm @ 1600 rpm', '330Nm@1750-2800rpm',\n",
       "       '335Nm@4600rpm', '340 Nm @ 1750 rpm', '340NM@1500rpm',\n",
       "       '340NM@2750-5000rpm', '340Nm@1500-3500rpm', '340Nm@1750-2000RPM',\n",
       "       '340Nm@1750-2750rpm', '343Nm@1400-2800rpm', '347Nm@4300rpm',\n",
       "       '350 Nm @ 1450 rpm', '350NM', '350Nm@1400-3400rpm',\n",
       "       '350Nm@1450-4800rpm', '350Nm@1450rpm', '350Nm@1500-2750rpm',\n",
       "       '350Nm@1500-3500rpm', '350Nm@1750-2500rpm', '350Nm@1800-2800rpm',\n",
       "       '350Nm@1800-3500rpm', '350Nm@5100rpm', '353Nm@5000rpm',\n",
       "       '360Nm@1200-3400rpm', '360Nm@1750-2800rpm', '365Nm@1500-4000rpm',\n",
       "       '365Nm@1500-4500rpm', '365Nm@1500rpm', '369Nm@1300-4000rpm',\n",
       "       '370 Nm @ 1600-4500 rpm', '370Nm@1600-4500rpm', '370Nm@1600rpm',\n",
       "       '370Nm@1800-4000rpm', '380Nm@1400-2400rpm', '380Nm@1750-2500rpm',\n",
       "       '380Nm@1800-2800rpm', '380Nm@1950-4500RPM', '380Nm@2400rpm',\n",
       "       '385Nm@1600-2500rpm', '395 Nm', '400 Nm @ 1500 rpm',\n",
       "       '400 Nm @ 1750 RPM', '400NM@1550rpm', '400NM@1750rpm', '400Nm',\n",
       "       '400Nm @1750-3000rpm', '400Nm@1500-4000rpm', '400Nm@1600-2800RPM',\n",
       "       '400Nm@1600rpm', '400Nm@1700-2700rpm', '400Nm@1750-2500rpm',\n",
       "       '400Nm@2000-2500rpm', '400Nm@2000rpm', '400Nm@4300rpm',\n",
       "       '410Nm@1600-2800rpm', '420Nm @1600-2600', '420Nm@1500-3000rpm',\n",
       "       '420Nm@1600-2400rpm', '420Nm@1600-2600rpm', '430NM@1750-2500rpm',\n",
       "       '430NM@1750rpm', '430Nm@1750-2000rpm', '440Nm@1750-2750rpm',\n",
       "       '441Nm@2000rpm', '450 Nm @ 1500 rpm', '450Nm@1340 - 5300rpm',\n",
       "       '450Nm@1340-5300', '450Nm@1380-5000RPM', '450Nm@1500-5200rpm',\n",
       "       '450Nm@1600-2400rpm', '450Nm@2250-5000rpm', '450Nm@3500-5000RPM',\n",
       "       '450Nm@5300RPM', '470Nm@1740RPM', '470Nm@1750-2500rpm',\n",
       "       '470Nm@2100-4800rpm', '475Nm@2250-5000rpm', '480 Nm @ 1750 rpm',\n",
       "       '480Nm@1360rpm', '480Nm@1600-4000RPM', '480Nm@1740RPM',\n",
       "       '480Nm@1750rpm', '480Nm@5250rpm', '500@1600-4500rpm',\n",
       "       '500Nm@1370-4500rpm', '500Nm@1370rpm', '500Nm@1600-2400RPM',\n",
       "       '500Nm@1600rpm', '500Nm@4500-5000rpm', '510Nm@4750rpm',\n",
       "       '515Nm@4250-4300RPM', '51Nm@4000rpm', '520NM@4750rpm',\n",
       "       '530Nm@5000rpm', '540 Nm @ 6500 rpm', '540Nm@6000rpm',\n",
       "       '540Nm@6500rpm', '546Nm@1600-2600rpm', '550Nm@1850-5500rpm',\n",
       "       '550Nm@2350-5230rpm', '560Nm@1500-3000rpm', '560Nm@6500rpm',\n",
       "       '570Nm@2000-2600rpm', '570Nm@2000rpm', '580Nm@4500-5000rpm',\n",
       "       '59Nm@2500rpm', '600Nm @ 1750-2250 rpm', '600Nm@1500-3000rpm',\n",
       "       '600Nm@1750-2250rpm', '600Nm@1900-5000rpm', '600Nm@2000-2600rpm',\n",
       "       '600Nm@2000rpm', '600Nm@2500rpm', '600Nm@3500rpm', '600Nm@6500rpm',\n",
       "       '619Nm@1600-2400RPM', '620 Nm @ 1500 rpm', '620Nm@1500-2500rpm',\n",
       "       '620Nm@1600-2400rpm', '620Nm@1600rpm', '620Nm@2000-2500RPM',\n",
       "       '624 Nm @ 4100 rpm', '625Nm@2500-5500rpm', '630Nm@1700-5000rpm',\n",
       "       '630Nm@5500rpm', '637Nm@3200rpm', '640Nm@2200rpm',\n",
       "       '650Nm@1600-2600rpm', '650Nm@1750-4750rpm', '660NM@1700rpm',\n",
       "       '680Nm@2500RPM', '685Nm@2000-5000rpm', '689Nm@1800rpm',\n",
       "       '690Nm@5500rpm', '690Nm@5506RPM', '697Nm@5250RPM', '69Nm@3500rpm',\n",
       "       '700Nm@1200-3200rpm', '700Nm@1500rpm', '700Nm@1750-5500rpm',\n",
       "       '700Nm@1750RPM', '700Nm@1800-3500RPM', '700Nm@1900 rpm',\n",
       "       '700Nm@1900-5500rpm', '700Nm@3500-4000rpm', '700Nm@3500-5000rpm',\n",
       "       '700Nm@3500rpm', '70Nm@1000rpm', '718 Nm @ 7000 rpm',\n",
       "       '720Nm@1750-5250RPM', '720Nm@1800rpm', '720Nm@3500rpm',\n",
       "       '72Nm@4386rpm', '740Nm@1750-2250rpm', '740Nm@2250rpm',\n",
       "       '750Nm@1800-5860rpm', '755NM@4750rpm', '760NM@3000rpm',\n",
       "       '760Nm@5250RPM', '770Nm@1350rpm', '770Nm@1960 - 4500rpm',\n",
       "       '770Nm@2000-4500', '770Nm@4500RPM', '780 Nm @ 1500-5000 rpm',\n",
       "       '780Nm@1500-5000RPM', '780Nm@1700rpm', '78Nm@3500rpm',\n",
       "       '8.3KGM@4500rpm', '800Nm@1500-5500rpm', '800Nm@1600-6100rpm',\n",
       "       '850 Nm@1600rpm', '850Nm@1550-5000RPM', '850Nm@2250-4500rpm',\n",
       "       '850Nm@2500-3500rpm', '85Nm@3000rpm', '900Nm@1350rpm',\n",
       "       '900Nm@2750-4500rpm', '90Nm@3500rpm', '91Nm@3000rpm',\n",
       "       '91Nm@4250RPM', '95Nm@3000-4300rpm', '95Nm@4000rpm',\n",
       "       '96Nm@2500RPM', '96Nm@3500rpm', '99.04nm@4500RPM', nan],\n",
       "      dtype=object)"
      ]
     },
     "execution_count": 1893,
     "metadata": {},
     "output_type": "execute_result"
    }
   ],
   "source": [
    "labelencoder.classes_"
   ]
  },
  {
   "cell_type": "code",
   "execution_count": 1895,
   "id": "e63cadbc",
   "metadata": {},
   "outputs": [
    {
     "data": {
      "text/plain": [
       "0       23.60\n",
       "1       23.60\n",
       "2       28.86\n",
       "3       23.60\n",
       "4       23.60\n",
       "        ...  \n",
       "1271    22.60\n",
       "1272    22.60\n",
       "1273    18.00\n",
       "1274    14.30\n",
       "1275     8.25\n",
       "Name: City_Mileage, Length: 1276, dtype: float64"
      ]
     },
     "execution_count": 1895,
     "metadata": {},
     "output_type": "execute_result"
    }
   ],
   "source": [
    "df['City_Mileage']"
   ]
  },
  {
   "cell_type": "code",
   "execution_count": 1906,
   "id": "b7e23591",
   "metadata": {},
   "outputs": [
    {
     "ename": "AttributeError",
     "evalue": "Can only use .str accessor with string values!",
     "output_type": "error",
     "traceback": [
      "\u001b[1;31m---------------------------------------------------------------------------\u001b[0m",
      "\u001b[1;31mAttributeError\u001b[0m                            Traceback (most recent call last)",
      "\u001b[1;32m~\\AppData\\Local\\Temp/ipykernel_94564/874755862.py\u001b[0m in \u001b[0;36m<module>\u001b[1;34m\u001b[0m\n\u001b[1;32m----> 1\u001b[1;33m \u001b[0mdf\u001b[0m\u001b[1;33m.\u001b[0m\u001b[0mFuel_Tank_Capacity\u001b[0m\u001b[1;33m=\u001b[0m\u001b[0mdf\u001b[0m\u001b[1;33m.\u001b[0m\u001b[0mFuel_Tank_Capacity\u001b[0m\u001b[1;33m.\u001b[0m\u001b[0mstr\u001b[0m\u001b[1;33m.\u001b[0m\u001b[0mrstrip\u001b[0m\u001b[1;33m(\u001b[0m\u001b[1;34m\"litres\"\u001b[0m\u001b[1;33m)\u001b[0m\u001b[1;33m\u001b[0m\u001b[1;33m\u001b[0m\u001b[0m\n\u001b[0m",
      "\u001b[1;32m~\\anaconda3\\lib\\site-packages\\pandas\\core\\generic.py\u001b[0m in \u001b[0;36m__getattr__\u001b[1;34m(self, name)\u001b[0m\n\u001b[0;32m   5485\u001b[0m         ):\n\u001b[0;32m   5486\u001b[0m             \u001b[1;32mreturn\u001b[0m \u001b[0mself\u001b[0m\u001b[1;33m[\u001b[0m\u001b[0mname\u001b[0m\u001b[1;33m]\u001b[0m\u001b[1;33m\u001b[0m\u001b[1;33m\u001b[0m\u001b[0m\n\u001b[1;32m-> 5487\u001b[1;33m         \u001b[1;32mreturn\u001b[0m \u001b[0mobject\u001b[0m\u001b[1;33m.\u001b[0m\u001b[0m__getattribute__\u001b[0m\u001b[1;33m(\u001b[0m\u001b[0mself\u001b[0m\u001b[1;33m,\u001b[0m \u001b[0mname\u001b[0m\u001b[1;33m)\u001b[0m\u001b[1;33m\u001b[0m\u001b[1;33m\u001b[0m\u001b[0m\n\u001b[0m\u001b[0;32m   5488\u001b[0m \u001b[1;33m\u001b[0m\u001b[0m\n\u001b[0;32m   5489\u001b[0m     \u001b[1;32mdef\u001b[0m \u001b[0m__setattr__\u001b[0m\u001b[1;33m(\u001b[0m\u001b[0mself\u001b[0m\u001b[1;33m,\u001b[0m \u001b[0mname\u001b[0m\u001b[1;33m:\u001b[0m \u001b[0mstr\u001b[0m\u001b[1;33m,\u001b[0m \u001b[0mvalue\u001b[0m\u001b[1;33m)\u001b[0m \u001b[1;33m->\u001b[0m \u001b[1;32mNone\u001b[0m\u001b[1;33m:\u001b[0m\u001b[1;33m\u001b[0m\u001b[1;33m\u001b[0m\u001b[0m\n",
      "\u001b[1;32m~\\anaconda3\\lib\\site-packages\\pandas\\core\\accessor.py\u001b[0m in \u001b[0;36m__get__\u001b[1;34m(self, obj, cls)\u001b[0m\n\u001b[0;32m    179\u001b[0m             \u001b[1;31m# we're accessing the attribute of the class, i.e., Dataset.geo\u001b[0m\u001b[1;33m\u001b[0m\u001b[1;33m\u001b[0m\u001b[0m\n\u001b[0;32m    180\u001b[0m             \u001b[1;32mreturn\u001b[0m \u001b[0mself\u001b[0m\u001b[1;33m.\u001b[0m\u001b[0m_accessor\u001b[0m\u001b[1;33m\u001b[0m\u001b[1;33m\u001b[0m\u001b[0m\n\u001b[1;32m--> 181\u001b[1;33m         \u001b[0maccessor_obj\u001b[0m \u001b[1;33m=\u001b[0m \u001b[0mself\u001b[0m\u001b[1;33m.\u001b[0m\u001b[0m_accessor\u001b[0m\u001b[1;33m(\u001b[0m\u001b[0mobj\u001b[0m\u001b[1;33m)\u001b[0m\u001b[1;33m\u001b[0m\u001b[1;33m\u001b[0m\u001b[0m\n\u001b[0m\u001b[0;32m    182\u001b[0m         \u001b[1;31m# Replace the property with the accessor object. Inspired by:\u001b[0m\u001b[1;33m\u001b[0m\u001b[1;33m\u001b[0m\u001b[0m\n\u001b[0;32m    183\u001b[0m         \u001b[1;31m# https://www.pydanny.com/cached-property.html\u001b[0m\u001b[1;33m\u001b[0m\u001b[1;33m\u001b[0m\u001b[0m\n",
      "\u001b[1;32m~\\anaconda3\\lib\\site-packages\\pandas\\core\\strings\\accessor.py\u001b[0m in \u001b[0;36m__init__\u001b[1;34m(self, data)\u001b[0m\n\u001b[0;32m    166\u001b[0m         \u001b[1;32mfrom\u001b[0m \u001b[0mpandas\u001b[0m\u001b[1;33m.\u001b[0m\u001b[0mcore\u001b[0m\u001b[1;33m.\u001b[0m\u001b[0marrays\u001b[0m\u001b[1;33m.\u001b[0m\u001b[0mstring_\u001b[0m \u001b[1;32mimport\u001b[0m \u001b[0mStringDtype\u001b[0m\u001b[1;33m\u001b[0m\u001b[1;33m\u001b[0m\u001b[0m\n\u001b[0;32m    167\u001b[0m \u001b[1;33m\u001b[0m\u001b[0m\n\u001b[1;32m--> 168\u001b[1;33m         \u001b[0mself\u001b[0m\u001b[1;33m.\u001b[0m\u001b[0m_inferred_dtype\u001b[0m \u001b[1;33m=\u001b[0m \u001b[0mself\u001b[0m\u001b[1;33m.\u001b[0m\u001b[0m_validate\u001b[0m\u001b[1;33m(\u001b[0m\u001b[0mdata\u001b[0m\u001b[1;33m)\u001b[0m\u001b[1;33m\u001b[0m\u001b[1;33m\u001b[0m\u001b[0m\n\u001b[0m\u001b[0;32m    169\u001b[0m         \u001b[0mself\u001b[0m\u001b[1;33m.\u001b[0m\u001b[0m_is_categorical\u001b[0m \u001b[1;33m=\u001b[0m \u001b[0mis_categorical_dtype\u001b[0m\u001b[1;33m(\u001b[0m\u001b[0mdata\u001b[0m\u001b[1;33m.\u001b[0m\u001b[0mdtype\u001b[0m\u001b[1;33m)\u001b[0m\u001b[1;33m\u001b[0m\u001b[1;33m\u001b[0m\u001b[0m\n\u001b[0;32m    170\u001b[0m         \u001b[0mself\u001b[0m\u001b[1;33m.\u001b[0m\u001b[0m_is_string\u001b[0m \u001b[1;33m=\u001b[0m \u001b[0misinstance\u001b[0m\u001b[1;33m(\u001b[0m\u001b[0mdata\u001b[0m\u001b[1;33m.\u001b[0m\u001b[0mdtype\u001b[0m\u001b[1;33m,\u001b[0m \u001b[0mStringDtype\u001b[0m\u001b[1;33m)\u001b[0m\u001b[1;33m\u001b[0m\u001b[1;33m\u001b[0m\u001b[0m\n",
      "\u001b[1;32m~\\anaconda3\\lib\\site-packages\\pandas\\core\\strings\\accessor.py\u001b[0m in \u001b[0;36m_validate\u001b[1;34m(data)\u001b[0m\n\u001b[0;32m    223\u001b[0m \u001b[1;33m\u001b[0m\u001b[0m\n\u001b[0;32m    224\u001b[0m         \u001b[1;32mif\u001b[0m \u001b[0minferred_dtype\u001b[0m \u001b[1;32mnot\u001b[0m \u001b[1;32min\u001b[0m \u001b[0mallowed_types\u001b[0m\u001b[1;33m:\u001b[0m\u001b[1;33m\u001b[0m\u001b[1;33m\u001b[0m\u001b[0m\n\u001b[1;32m--> 225\u001b[1;33m             \u001b[1;32mraise\u001b[0m \u001b[0mAttributeError\u001b[0m\u001b[1;33m(\u001b[0m\u001b[1;34m\"Can only use .str accessor with string values!\"\u001b[0m\u001b[1;33m)\u001b[0m\u001b[1;33m\u001b[0m\u001b[1;33m\u001b[0m\u001b[0m\n\u001b[0m\u001b[0;32m    226\u001b[0m         \u001b[1;32mreturn\u001b[0m \u001b[0minferred_dtype\u001b[0m\u001b[1;33m\u001b[0m\u001b[1;33m\u001b[0m\u001b[0m\n\u001b[0;32m    227\u001b[0m \u001b[1;33m\u001b[0m\u001b[0m\n",
      "\u001b[1;31mAttributeError\u001b[0m: Can only use .str accessor with string values!"
     ]
    }
   ],
   "source": [
    "df.Fuel_Tank_Capacity=df.Fuel_Tank_Capacity.str.rstrip(\"litres\")\n"
   ]
  },
  {
   "cell_type": "code",
   "execution_count": 1907,
   "id": "a5271cc6",
   "metadata": {},
   "outputs": [
    {
     "data": {
      "text/plain": [
       "0       24.0\n",
       "1       24.0\n",
       "2       15.0\n",
       "3       24.0\n",
       "4       24.0\n",
       "        ... \n",
       "1271    40.0\n",
       "1272    40.0\n",
       "1273    40.0\n",
       "1274    40.0\n",
       "1275    88.0\n",
       "Name: Fuel_Tank_Capacity, Length: 1276, dtype: float64"
      ]
     },
     "execution_count": 1907,
     "metadata": {},
     "output_type": "execute_result"
    }
   ],
   "source": [
    "df.Fuel_Tank_Capacity"
   ]
  },
  {
   "cell_type": "code",
   "execution_count": 1908,
   "id": "65f77c29",
   "metadata": {},
   "outputs": [],
   "source": [
    "df.Fuel_Tank_Capacity=pd.to_numeric(df['Fuel_Tank_Capacity'])"
   ]
  },
  {
   "cell_type": "code",
   "execution_count": 1909,
   "id": "10d0825f",
   "metadata": {},
   "outputs": [
    {
     "data": {
      "text/plain": [
       "0"
      ]
     },
     "execution_count": 1909,
     "metadata": {},
     "output_type": "execute_result"
    }
   ],
   "source": [
    "df.Fuel_Tank_Capacity.isnull().sum()"
   ]
  },
  {
   "cell_type": "code",
   "execution_count": 1910,
   "id": "b52d2c56",
   "metadata": {},
   "outputs": [
    {
     "data": {
      "text/plain": [
       "0    45.0\n",
       "dtype: float64"
      ]
     },
     "execution_count": 1910,
     "metadata": {},
     "output_type": "execute_result"
    }
   ],
   "source": [
    "df.Fuel_Tank_Capacity.mode()"
   ]
  },
  {
   "cell_type": "code",
   "execution_count": 1911,
   "id": "4d8ec100",
   "metadata": {},
   "outputs": [],
   "source": [
    "df.Fuel_Tank_Capacity=df.Fuel_Tank_Capacity.fillna(45)"
   ]
  },
  {
   "cell_type": "code",
   "execution_count": 1912,
   "id": "d2379856",
   "metadata": {},
   "outputs": [
    {
     "data": {
      "text/plain": [
       "0"
      ]
     },
     "execution_count": 1912,
     "metadata": {},
     "output_type": "execute_result"
    }
   ],
   "source": [
    "df.Fuel_Tank_Capacity.isnull().sum()"
   ]
  },
  {
   "cell_type": "code",
   "execution_count": 1913,
   "id": "670c49a7",
   "metadata": {},
   "outputs": [
    {
     "data": {
      "text/plain": [
       "Index(['Make', 'Model', 'Body_Type', 'Variant', 'Ex-Showroom_Price',\n",
       "       'Fuel_Tank_Capacity', 'Cylinders', 'Power', 'Torque', 'Boot_Space',\n",
       "       'City_Mileage', 'Highway_Mileage', 'MakeLabEnc', 'ModelLabEnc',\n",
       "       'Body_typeLabEnc', 'PowerLabEnc', 'TorqueLabEnc'],\n",
       "      dtype='object')"
      ]
     },
     "execution_count": 1913,
     "metadata": {},
     "output_type": "execute_result"
    }
   ],
   "source": [
    "col.columns"
   ]
  },
  {
   "cell_type": "code",
   "execution_count": 1914,
   "id": "e262beef",
   "metadata": {},
   "outputs": [
    {
     "data": {
      "text/plain": [
       "0        51Nm@4000rpm\n",
       "1        51Nm@4000rpm\n",
       "2        51Nm@4000rpm\n",
       "3        51Nm@4000rpm\n",
       "4        51Nm@4000rpm\n",
       "            ...      \n",
       "1271    200Nm@1750rpm\n",
       "1272    200Nm@1750rpm\n",
       "1273    145Nm@4600rpm\n",
       "1274    145Nm@4600rpm\n",
       "1275    441Nm@2000rpm\n",
       "Name: Torque, Length: 1276, dtype: object"
      ]
     },
     "execution_count": 1914,
     "metadata": {},
     "output_type": "execute_result"
    }
   ],
   "source": [
    "col.Torque"
   ]
  },
  {
   "cell_type": "code",
   "execution_count": 1915,
   "id": "7bf8e535",
   "metadata": {},
   "outputs": [
    {
     "data": {
      "text/plain": [
       "0        38PS@5500rpm\n",
       "1        38PS@5500rpm\n",
       "2        38PS@5500rpm\n",
       "3        38PS@5500rpm\n",
       "4        38PS@5500rpm\n",
       "            ...      \n",
       "1271    100PS@3600rpm\n",
       "1272    100PS@3600rpm\n",
       "1273    119PS@6600rpm\n",
       "1274    119PS@6600rpm\n",
       "1275    202ps@3800rpm\n",
       "Name: Power, Length: 1276, dtype: object"
      ]
     },
     "execution_count": 1915,
     "metadata": {},
     "output_type": "execute_result"
    }
   ],
   "source": [
    "col.Power"
   ]
  },
  {
   "cell_type": "markdown",
   "id": "464c525f",
   "metadata": {},
   "source": [
    "#### Plotting number of cars of each model"
   ]
  },
  {
   "cell_type": "code",
   "execution_count": 1916,
   "id": "81382cf5",
   "metadata": {},
   "outputs": [
    {
     "data": {
      "text/plain": [
       "Text(0, 0.5, 'Number of cars of the Model')"
      ]
     },
     "execution_count": 1916,
     "metadata": {},
     "output_type": "execute_result"
    },
    {
     "data": {
      "image/png": "[encoded data removed]",
      "text/plain": [
       "<Figure size 1440x1080 with 1 Axes>"
      ]
     },
     "metadata": {
      "needs_background": "light"
     },
     "output_type": "display_data"
    }
   ],
   "source": [
    "x=col['Model'].value_counts().head(40).plot(kind='bar',figsize=(20, 15))\n",
    "x.set_xlabel(\"Name of Model\")\n",
    "x.set_ylabel(\"Number of cars of the Model\") \n"
   ]
  },
  {
   "cell_type": "markdown",
   "id": "ab6160c2",
   "metadata": {},
   "source": [
    "#### Plotting number of Cars in each Price Range"
   ]
  },
  {
   "cell_type": "code",
   "execution_count": 1810,
   "id": "90ede153",
   "metadata": {},
   "outputs": [
    {
     "data": {
      "image/png": "[encoded data removed]",
      "text/plain": [
       "<Figure size 432x288 with 1 Axes>"
      ]
     },
     "metadata": {
      "needs_background": "light"
     },
     "output_type": "display_data"
    }
   ],
   "source": [
    "bins=[200000,300000,400000,500000,600000,700000,800000,900000,1000000,1100000,1200000,1300000,1400000,1500000,1600000,1700000,1800000,1900000,2000000]\n",
    "plt.hist(col['Ex-Showroom_Price'],bins,histtype='bar',rwidth=0.5,color='b')\n",
    "plt.xlabel('Show Room price in Million Rs')\n",
    "plt.ylabel('Number of Cars')\n",
    "plt.title('Histogram')\n",
    "# Plotting Number of Cars in each price range\n",
    "plt.show()\n"
   ]
  },
  {
   "cell_type": "markdown",
   "id": "9ea87331",
   "metadata": {},
   "source": [
    "## from the above plot we can estimate that most of the cars are in the range of 10 Lakh Rupees\n"
   ]
  },
  {
   "cell_type": "code",
   "execution_count": 1917,
   "id": "4fd3623c",
   "metadata": {},
   "outputs": [
    {
     "data": {
      "text/plain": [
       "Text(0.5, 0, 'Body Type')"
      ]
     },
     "execution_count": 1917,
     "metadata": {},
     "output_type": "execute_result"
    },
    {
     "data": {
      "image/png": "[encoded data removed]",
      "text/plain": [
       "<Figure size 1440x720 with 1 Axes>"
      ]
     },
     "metadata": {
      "needs_background": "light"
     },
     "output_type": "display_data"
    }
   ],
   "source": [
    "x=col['Body_Type'].value_counts().head(40).plot(kind='bar',figsize=(20, 10))\n",
    "x.set_ylabel(\"Number of Cars of the type\")\n",
    "x.set_xlabel(\"Body Type\") \n",
    "#Plotting Number of Cars of Each Body type"
   ]
  },
  {
   "cell_type": "markdown",
   "id": "f0a2358b",
   "metadata": {},
   "source": [
    "### Plotting Power Torque Bootspace and Price against each other"
   ]
  },
  {
   "cell_type": "code",
   "execution_count": 1812,
   "id": "6bb8a6c6",
   "metadata": {},
   "outputs": [
    {
     "data": {
      "image/png": "[encoded data removed]",
      "text/plain": [
       "<Figure size 720x720 with 20 Axes>"
      ]
     },
     "metadata": {
      "needs_background": "light"
     },
     "output_type": "display_data"
    }
   ],
   "source": [
    "g = sns.pairplot(col[[\"PowerLabEnc\", \"TorqueLabEnc\", \"Ex-Showroom_Price\", \"Fuel_Tank_Capacity\",\"Boot_Space\"]])"
   ]
  },
  {
   "cell_type": "markdown",
   "id": "ed525eaf",
   "metadata": {},
   "source": [
    "### We observe that with increase in Power and Torque price increases but increase in bootspace doesnot affect price as much"
   ]
  },
  {
   "cell_type": "code",
   "execution_count": 1813,
   "id": "1b30c383",
   "metadata": {},
   "outputs": [
    {
     "data": {
      "text/plain": [
       "0       24 litres\n",
       "1       24 litres\n",
       "2       15 litres\n",
       "3       24 litres\n",
       "4       24 litres\n",
       "          ...    \n",
       "1271    40 litres\n",
       "1272    40 litres\n",
       "1273    40 litres\n",
       "1274    40 litres\n",
       "1275    88 litres\n",
       "Name: Fuel_Tank_Capacity, Length: 1276, dtype: object"
      ]
     },
     "execution_count": 1813,
     "metadata": {},
     "output_type": "execute_result"
    }
   ],
   "source": [
    "col.Fuel_Tank_Capacity\n"
   ]
  },
  {
   "cell_type": "code",
   "execution_count": 1814,
   "id": "fbf33a08",
   "metadata": {},
   "outputs": [
    {
     "name": "stderr",
     "output_type": "stream",
     "text": [
      "C:\\Users\\abbas\\anaconda3\\lib\\site-packages\\pandas\\core\\generic.py:5516: SettingWithCopyWarning: \n",
      "A value is trying to be set on a copy of a slice from a DataFrame.\n",
      "Try using .loc[row_indexer,col_indexer] = value instead\n",
      "\n",
      "See the caveats in the documentation: https://pandas.pydata.org/pandas-docs/stable/user_guide/indexing.html#returning-a-view-versus-a-copy\n",
      "  self[name] = value\n"
     ]
    }
   ],
   "source": [
    "col.Fuel_Tank_Capacity=col.Fuel_Tank_Capacity.str.replace('litres',' ')"
   ]
  },
  {
   "cell_type": "code",
   "execution_count": 1815,
   "id": "4255ab1c",
   "metadata": {},
   "outputs": [
    {
     "data": {
      "text/plain": [
       "0       24  \n",
       "1       24  \n",
       "2       15  \n",
       "3       24  \n",
       "4       24  \n",
       "        ... \n",
       "1271    40  \n",
       "1272    40  \n",
       "1273    40  \n",
       "1274    40  \n",
       "1275    88  \n",
       "Name: Fuel_Tank_Capacity, Length: 1276, dtype: object"
      ]
     },
     "execution_count": 1815,
     "metadata": {},
     "output_type": "execute_result"
    }
   ],
   "source": [
    "col.Fuel_Tank_Capacity"
   ]
  },
  {
   "cell_type": "code",
   "execution_count": 1816,
   "id": "774d651e",
   "metadata": {},
   "outputs": [],
   "source": [
    "col.Fuel_Tank_Capacity=pd.to_numeric(col.Fuel_Tank_Capacity)"
   ]
  },
  {
   "cell_type": "code",
   "execution_count": 1817,
   "id": "baa10f08",
   "metadata": {},
   "outputs": [
    {
     "data": {
      "text/plain": [
       "0       24.0\n",
       "1       24.0\n",
       "2       15.0\n",
       "3       24.0\n",
       "4       24.0\n",
       "        ... \n",
       "1271    40.0\n",
       "1272    40.0\n",
       "1273    40.0\n",
       "1274    40.0\n",
       "1275    88.0\n",
       "Name: Fuel_Tank_Capacity, Length: 1276, dtype: float64"
      ]
     },
     "execution_count": 1817,
     "metadata": {},
     "output_type": "execute_result"
    }
   ],
   "source": [
    "col.Fuel_Tank_Capacity"
   ]
  },
  {
   "cell_type": "markdown",
   "id": "34b504bd",
   "metadata": {},
   "source": [
    "### Plotting city mileage against price"
   ]
  },
  {
   "cell_type": "code",
   "execution_count": 1823,
   "id": "737b22cb",
   "metadata": {},
   "outputs": [
    {
     "data": {
      "text/plain": [
       "(0.0, 27.0)"
      ]
     },
     "execution_count": 1823,
     "metadata": {},
     "output_type": "execute_result"
    },
    {
     "data": {
      "image/png": "[encoded data removed]",
      "text/plain": [
       "<Figure size 360x360 with 1 Axes>"
      ]
     },
     "metadata": {},
     "output_type": "display_data"
    }
   ],
   "source": [
    "fig, ax = plt.subplots(figsize=(5,5), ncols=1, nrows=1) # get the figure and axes objects \n",
    "\n",
    "fig.patch.set_alpha(1)\n",
    "ax.set_title(\"City_Mileage - Price\", fontsize=16)\n",
    "ax.patch.set_alpha(0)\n",
    "\n",
    "gax=sns.regplot(x='City_Mileage', y='Ex-Showroom_Price',data=col,color='b')\n",
    "gax.set_ylabel('Price',fontsize=14 )\n",
    "gax.set_xlabel('City_Mileage',fontsize=14)\n",
    "#gax.set_xticklabels(gax9.get_xticklabels(), rotation=90)\n",
    "gax.set_ylim(0,20000000)\n",
    "gax.set_xlim(0,27)\n"
   ]
  },
  {
   "cell_type": "markdown",
   "id": "2445c2f9",
   "metadata": {},
   "source": [
    "#### City mileage doesnt affect price that much and price has slightly negative to no correlation with city mileage people who look for better effeciency in fuel might be slightly conscious of their budget"
   ]
  },
  {
   "cell_type": "code",
   "execution_count": 1692,
   "id": "3bfe2600",
   "metadata": {},
   "outputs": [
    {
     "data": {
      "text/plain": [
       "count     1276.000000\n",
       "mean        42.183911\n",
       "std        728.205708\n",
       "min          2.000000\n",
       "25%         14.500000\n",
       "50%         23.840000\n",
       "75%         28.860000\n",
       "max      26032.000000\n",
       "Name: City_Mileage, dtype: float64"
      ]
     },
     "execution_count": 1692,
     "metadata": {},
     "output_type": "execute_result"
    }
   ],
   "source": [
    "df['City_Mileage'].describe()"
   ]
  },
  {
   "cell_type": "code",
   "execution_count": 1824,
   "id": "afabac98",
   "metadata": {},
   "outputs": [],
   "source": [
    "df.Height=df.Height.str.replace(\"mm\",' ')\n",
    "df.Height=pd.to_numeric(df.Height)"
   ]
  },
  {
   "cell_type": "code",
   "execution_count": 1825,
   "id": "1f974afa",
   "metadata": {},
   "outputs": [
    {
     "data": {
      "text/plain": [
       "0       1652.0\n",
       "1       1652.0\n",
       "2       1652.0\n",
       "3       1652.0\n",
       "4       1652.0\n",
       "         ...  \n",
       "1271    1495.0\n",
       "1272    1495.0\n",
       "1273    1495.0\n",
       "1274    1495.0\n",
       "1275    1900.0\n",
       "Name: Height, Length: 1276, dtype: float64"
      ]
     },
     "execution_count": 1825,
     "metadata": {},
     "output_type": "execute_result"
    }
   ],
   "source": [
    "df.Height"
   ]
  },
  {
   "cell_type": "code",
   "execution_count": 1826,
   "id": "ef62c75a",
   "metadata": {},
   "outputs": [],
   "source": [
    "df.Width=df.Width.str.replace(\"mm\",' ')\n",
    "df.Width=pd.to_numeric(df.Width)\n",
    "df.Length=df.Length.str.replace(\"mm\",' ')\n",
    "df.Length=pd.to_numeric(df.Length)"
   ]
  },
  {
   "cell_type": "markdown",
   "id": "ad6ae6f4",
   "metadata": {},
   "source": [
    "### Comparing Length Width and Price of Car"
   ]
  },
  {
   "cell_type": "code",
   "execution_count": 1827,
   "id": "058b295c",
   "metadata": {},
   "outputs": [
    {
     "data": {
      "image/png": "[encoded data removed]",
      "text/plain": [
       "<Figure size 540x540 with 9 Axes>"
      ]
     },
     "metadata": {
      "needs_background": "light"
     },
     "output_type": "display_data"
    }
   ],
   "source": [
    "gplt=sns.pairplot(df[['Length','Width','Ex-Showroom_Price']], kind=\"scatter\",diag_kind='scatter',diag_kws=dict(color='b', linewidth=2),plot_kws=dict(color='r'))\n",
    "\n",
    "xlabels,ylabels = [],[]\n",
    "\n",
    "for ax in gplt.axes[-1,:]:\n",
    "    xlabel = ax.xaxis.get_label_text()\n",
    "    xlabels.append(xlabel)\n",
    "for ax in gplt.axes[:,0]:\n",
    "    ylabel = ax.yaxis.get_label_text()\n",
    "    ylabels.append(ylabel)\n",
    "\n",
    "for i in range(len(xlabels)):\n",
    "    for j in range(len(ylabels)):\n",
    "        gplt.axes[j,i].patch.set_alpha(0)\n",
    "        gplt.axes[j,i].xaxis.set_label_text(xlabels[i], fontsize=14)\n",
    "        gplt.axes[j,i].yaxis.set_label_text(ylabels[j], fontsize=14)"
   ]
  },
  {
   "cell_type": "markdown",
   "id": "5e70e781",
   "metadata": {},
   "source": [
    "## With increase in length and width the price of car rises as bigger cars are relatively safer"
   ]
  },
  {
   "cell_type": "code",
   "execution_count": 1726,
   "id": "7f42a45c",
   "metadata": {},
   "outputs": [
    {
     "data": {
      "image/png": "[encoded data removed]",
      "text/plain": [
       "<Figure size 360x216 with 4 Axes>"
      ]
     },
     "metadata": {
      "needs_background": "light"
     },
     "output_type": "display_data"
    }
   ],
   "source": [
    "col[['PowerLabEnc','TorqueLabEnc','Fuel_Tank_Capacity']].hist(figsize=(5,3),bins=6,color='Blue')\n",
    "plt.tight_layout()\n",
    "plt.show()"
   ]
  },
  {
   "cell_type": "code",
   "execution_count": null,
   "id": "6cd00135",
   "metadata": {},
   "outputs": [],
   "source": []
  }
 ],
 "metadata": {
  "kernelspec": {
   "display_name": "Python 3 (ipykernel)",
   "language": "python",
   "name": "python3"
  },
  "language_info": {
   "codemirror_mode": {
    "name": "ipython",
    "version": 3
   },
   "file_extension": ".py",
   "mimetype": "text/x-python",
   "name": "python",
   "nbconvert_exporter": "python",
   "pygments_lexer": "ipython3",
   "version": "3.9.7"
  }
 },
 "nbformat": 4,
 "nbformat_minor": 5
}
